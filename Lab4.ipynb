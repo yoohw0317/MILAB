{
  "nbformat": 4,
  "nbformat_minor": 0,
  "metadata": {
    "colab": {
      "name": "Lab4.ipynb",
      "provenance": [],
      "collapsed_sections": [],
      "authorship_tag": "ABX9TyOX6TBCTX0EKW19miX7Sxt+",
      "include_colab_link": true
    },
    "kernelspec": {
      "name": "python3",
      "display_name": "Python 3"
    },
    "language_info": {
      "name": "python"
    }
  },
  "cells": [
    {
      "cell_type": "markdown",
      "metadata": {
        "id": "view-in-github",
        "colab_type": "text"
      },
      "source": [
        "<a href=\"https://colab.research.google.com/github/yoohw0317/MILAB/blob/main/Lab4.ipynb\" target=\"_parent\"><img src=\"https://colab.research.google.com/assets/colab-badge.svg\" alt=\"Open In Colab\"/></a>"
      ]
    },
    {
      "cell_type": "markdown",
      "source": [
        "# **Multivariate Linear Regression**\n",
        "\n",
        "여러개의 정보를 통해서 하나의 결과를 도출해내는 학습법\n",
        "\n",
        "\n",
        "\n",
        "matmul()로 한번에 계산\n",
        "더 간결하고, x의의 길이가 바뀌어도 코드를 바꿀 필요가 없고 속도도 더 빠름.\n",
        "\n",
        "cost function의 수식은 비슷함.\n",
        "\n",
        "W : = W -a * d/dx a\n"
      ],
      "metadata": {
        "id": "4WdMJo38Dsyj"
      }
    },
    {
      "cell_type": "code",
      "execution_count": 18,
      "metadata": {
        "id": "FMpIsnGXDqzs"
      },
      "outputs": [],
      "source": [
        "import torch\n",
        "import torch.optim as optim\n",
        "import torch.nn as nn\n",
        "import torch.nn.functional as F"
      ]
    },
    {
      "cell_type": "code",
      "source": [
        "# 데이터 (여기가 simple regression과 달라짐)\n",
        "x_train = torch.FloatTensor([[73, 80, 75],\n",
        "                             [93, 88, 93],\n",
        "                             [89, 91, 90],\n",
        "                             [96, 98, 100],\n",
        "                             [73, 66, 70]])\n",
        "y_train = torch.FloatTensor([[152], [185], [180], [196], [142]])\n",
        "\n",
        "# 모델 초기화 (여기도 약간 달라짐)\n",
        "W = torch.zeros((3,1), requires_grad = True)\n",
        "b = torch.zeros(1, requires_grad = True)\n",
        "\n",
        "# optimizer 설정\n",
        "optimizer = optim.SGD([W, b], lr=1e-5)"
      ],
      "metadata": {
        "id": "4OLKLUj0nQZk"
      },
      "execution_count": 4,
      "outputs": []
    },
    {
      "cell_type": "code",
      "source": [
        "nb_epochs = 20\n",
        "for epoch in range(nb_epochs+1):\n",
        "\n",
        "  #H(x)를 계산)\n",
        "  hypothesis = x_train.matmul(W) + b\n",
        "\n",
        "  #Cost 계산, Cost는 점점 작아지도록 됨\n",
        "  cost = torch.mean((hypothesis - y_train) ** 2)\n",
        "\n",
        "  #cost로 H(x)를 개선\n",
        "  optimizer.zero_grad()\n",
        "  cost.backward()\n",
        "  optimizer.step()\n",
        "\n",
        "  print(f'Epoch {epoch:4d}/{nb_epochs} hypothesis: {hypothesis.squeeze().detach()} Cost: {cost.item()}')"
      ],
      "metadata": {
        "colab": {
          "base_uri": "https://localhost:8080/"
        },
        "id": "ESVriFr9n-9O",
        "outputId": "8958cd85-7b8e-435e-b1ff-c0e4469b2a5f"
      },
      "execution_count": 5,
      "outputs": [
        {
          "output_type": "stream",
          "name": "stdout",
          "text": [
            "Epoch    0/20 hypothesis: tensor([0., 0., 0., 0., 0.]) Cost: 29661.80078125\n",
            "Epoch    1/20 hypothesis: tensor([67.2578, 80.8397, 79.6523, 86.7394, 61.6605]) Cost: 9298.5205078125\n",
            "Epoch    2/20 hypothesis: tensor([104.9128, 126.0990, 124.2466, 135.3015,  96.1821]) Cost: 2915.71240234375\n",
            "Epoch    3/20 hypothesis: tensor([125.9942, 151.4381, 149.2133, 162.4896, 115.5097]) Cost: 915.04052734375\n",
            "Epoch    4/20 hypothesis: tensor([137.7967, 165.6247, 163.1911, 177.7112, 126.3307]) Cost: 287.93609619140625\n",
            "Epoch    5/20 hypothesis: tensor([144.4044, 173.5674, 171.0168, 186.2332, 132.3891]) Cost: 91.37106323242188\n",
            "Epoch    6/20 hypothesis: tensor([148.1035, 178.0143, 175.3980, 191.0042, 135.7812]) Cost: 29.758249282836914\n",
            "Epoch    7/20 hypothesis: tensor([150.1744, 180.5042, 177.8509, 193.6753, 137.6805]) Cost: 10.445266723632812\n",
            "Epoch    8/20 hypothesis: tensor([151.3336, 181.8983, 179.2240, 195.1707, 138.7440]) Cost: 4.391237258911133\n",
            "Epoch    9/20 hypothesis: tensor([151.9824, 182.6789, 179.9928, 196.0079, 139.3396]) Cost: 2.493121385574341\n",
            "Epoch   10/20 hypothesis: tensor([152.3454, 183.1161, 180.4231, 196.4765, 139.6732]) Cost: 1.8976879119873047\n",
            "Epoch   11/20 hypothesis: tensor([152.5485, 183.3609, 180.6640, 196.7389, 139.8602]) Cost: 1.7105515003204346\n",
            "Epoch   12/20 hypothesis: tensor([152.6620, 183.4982, 180.7988, 196.8857, 139.9651]) Cost: 1.6514164209365845\n",
            "Epoch   13/20 hypothesis: tensor([152.7253, 183.5752, 180.8742, 196.9678, 140.0240]) Cost: 1.632368803024292\n",
            "Epoch   14/20 hypothesis: tensor([152.7606, 183.6184, 180.9164, 197.0138, 140.0571]) Cost: 1.625923752784729\n",
            "Epoch   15/20 hypothesis: tensor([152.7802, 183.6427, 180.9399, 197.0395, 140.0759]) Cost: 1.6234203577041626\n",
            "Epoch   16/20 hypothesis: tensor([152.7909, 183.6565, 180.9530, 197.0538, 140.0865]) Cost: 1.6221520900726318\n",
            "Epoch   17/20 hypothesis: tensor([152.7968, 183.6643, 180.9603, 197.0618, 140.0927]) Cost: 1.6212615966796875\n",
            "Epoch   18/20 hypothesis: tensor([152.7999, 183.6688, 180.9644, 197.0661, 140.0963]) Cost: 1.6205012798309326\n",
            "Epoch   19/20 hypothesis: tensor([152.8014, 183.6715, 180.9665, 197.0686, 140.0985]) Cost: 1.6197574138641357\n",
            "Epoch   20/20 hypothesis: tensor([152.8020, 183.6731, 180.9677, 197.0699, 140.0999]) Cost: 1.619045615196228\n"
          ]
        }
      ]
    },
    {
      "cell_type": "markdown",
      "source": [
        "# nn.Module 사용하기\n",
        "\n",
        "* nn.Module 을 상속해서 모델을 생성\n",
        "* nn.Linear (3, 1)\n",
        "  * 입력 차원: 3\n",
        "  * 출력 차원: 1\n",
        "* Hypothesis 계산은 forward()에서 처리됨\n",
        "* Gradient 계산은 PyTorch가 알아서 해줌 (backward() 통해서)\n",
        "\n"
      ],
      "metadata": {
        "id": "53J2edktozkE"
      }
    },
    {
      "cell_type": "code",
      "source": [
        "class MultivariateLinearRegressionModel(nn.Module):\n",
        "  def __init__(self):\n",
        "    super().__init__()\n",
        "    self.linear = nn.Linear(3, 1)\n",
        "\n",
        "  def forward(self, x):\n",
        "    return self.linear(x)"
      ],
      "metadata": {
        "id": "TaHY2MNapWTA"
      },
      "execution_count": 19,
      "outputs": []
    },
    {
      "cell_type": "markdown",
      "source": [
        "# F.mse_loss\n",
        "\n",
        "\n",
        "*   torch.nn.functional 에서 제공하는 loss function 사용\n",
        "*   쉽게 다른 loss와 교체 가능 (l1_loss, smooth_l1_loss 등등)\n",
        "\n"
      ],
      "metadata": {
        "id": "sOsxSHmEpqok"
      }
    },
    {
      "cell_type": "code",
      "source": [
        "# 데이터 (위의 코드와 변화 없음)\n",
        "x_train = torch.FloatTensor([[73, 80, 75],\n",
        "                             [93, 88, 93],\n",
        "                             [89, 91, 90],\n",
        "                             [96, 98, 100],\n",
        "                             [73, 66, 70]])\n",
        "y_train = torch.FloatTensor([[152], [185], [180], [196], [142]])\n",
        "\n",
        "# 모델 초기화 - 매우 간결해짐\n",
        "model = MultivariateLinearRegressionModel()\n",
        "\n",
        "# optimizer 설정\n",
        "optimizer = optim.SGD([W, b], lr=1e-5)"
      ],
      "metadata": {
        "id": "kXyADe8-p-OL"
      },
      "execution_count": 20,
      "outputs": []
    },
    {
      "cell_type": "code",
      "source": [
        "nb_epochs = 20\n",
        "for epoch in range(nb_epochs+1):\n",
        "\n",
        "  #H(x)를 계산 - model을 이용해서 계산하게 됨.\n",
        "  hypothesis = model(x_train)\n",
        "\n",
        "  #Cost 계산, Cost는 점점 작아지도록 됨\n",
        "  cost = F.mse_loss(hypothesis, y_train)\n",
        "\n",
        "  #cost로 H(x)를 개선\n",
        "  optimizer.zero_grad()\n",
        "  cost.backward()\n",
        "  optimizer.step()\n",
        "\n",
        "  print(f'Epoch {epoch:4d}/{nb_epochs} hypothesis: {hypothesis.squeeze().detach()} Cost: {cost.item()}')\n",
        "\n",
        "  # 계산이 갱신이 안되고 있는 것 같음 해결해야함."
      ],
      "metadata": {
        "colab": {
          "base_uri": "https://localhost:8080/"
        },
        "id": "6dzekUj2qgG5",
        "outputId": "b0e4d618-68a8-4058-bc60-d10e684c8e4f"
      },
      "execution_count": 21,
      "outputs": [
        {
          "output_type": "stream",
          "name": "stdout",
          "text": [
            "Epoch    0/20 hypothesis: tensor([ -78.1792,  -91.7107,  -91.5273, -100.3178,  -68.7378]) Cost: 67098.6015625\n",
            "Epoch    1/20 hypothesis: tensor([ -78.1792,  -91.7107,  -91.5273, -100.3178,  -68.7378]) Cost: 67098.6015625\n",
            "Epoch    2/20 hypothesis: tensor([ -78.1792,  -91.7107,  -91.5273, -100.3178,  -68.7378]) Cost: 67098.6015625\n",
            "Epoch    3/20 hypothesis: tensor([ -78.1792,  -91.7107,  -91.5273, -100.3178,  -68.7378]) Cost: 67098.6015625\n",
            "Epoch    4/20 hypothesis: tensor([ -78.1792,  -91.7107,  -91.5273, -100.3178,  -68.7378]) Cost: 67098.6015625\n",
            "Epoch    5/20 hypothesis: tensor([ -78.1792,  -91.7107,  -91.5273, -100.3178,  -68.7378]) Cost: 67098.6015625\n",
            "Epoch    6/20 hypothesis: tensor([ -78.1792,  -91.7107,  -91.5273, -100.3178,  -68.7378]) Cost: 67098.6015625\n",
            "Epoch    7/20 hypothesis: tensor([ -78.1792,  -91.7107,  -91.5273, -100.3178,  -68.7378]) Cost: 67098.6015625\n",
            "Epoch    8/20 hypothesis: tensor([ -78.1792,  -91.7107,  -91.5273, -100.3178,  -68.7378]) Cost: 67098.6015625\n",
            "Epoch    9/20 hypothesis: tensor([ -78.1792,  -91.7107,  -91.5273, -100.3178,  -68.7378]) Cost: 67098.6015625\n",
            "Epoch   10/20 hypothesis: tensor([ -78.1792,  -91.7107,  -91.5273, -100.3178,  -68.7378]) Cost: 67098.6015625\n",
            "Epoch   11/20 hypothesis: tensor([ -78.1792,  -91.7107,  -91.5273, -100.3178,  -68.7378]) Cost: 67098.6015625\n",
            "Epoch   12/20 hypothesis: tensor([ -78.1792,  -91.7107,  -91.5273, -100.3178,  -68.7378]) Cost: 67098.6015625\n",
            "Epoch   13/20 hypothesis: tensor([ -78.1792,  -91.7107,  -91.5273, -100.3178,  -68.7378]) Cost: 67098.6015625\n",
            "Epoch   14/20 hypothesis: tensor([ -78.1792,  -91.7107,  -91.5273, -100.3178,  -68.7378]) Cost: 67098.6015625\n",
            "Epoch   15/20 hypothesis: tensor([ -78.1792,  -91.7107,  -91.5273, -100.3178,  -68.7378]) Cost: 67098.6015625\n",
            "Epoch   16/20 hypothesis: tensor([ -78.1792,  -91.7107,  -91.5273, -100.3178,  -68.7378]) Cost: 67098.6015625\n",
            "Epoch   17/20 hypothesis: tensor([ -78.1792,  -91.7107,  -91.5273, -100.3178,  -68.7378]) Cost: 67098.6015625\n",
            "Epoch   18/20 hypothesis: tensor([ -78.1792,  -91.7107,  -91.5273, -100.3178,  -68.7378]) Cost: 67098.6015625\n",
            "Epoch   19/20 hypothesis: tensor([ -78.1792,  -91.7107,  -91.5273, -100.3178,  -68.7378]) Cost: 67098.6015625\n",
            "Epoch   20/20 hypothesis: tensor([ -78.1792,  -91.7107,  -91.5273, -100.3178,  -68.7378]) Cost: 67098.6015625\n"
          ]
        }
      ]
    }
  ]
}