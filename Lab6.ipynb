{
  "nbformat": 4,
  "nbformat_minor": 0,
  "metadata": {
    "colab": {
      "name": "Lab6.ipynb",
      "provenance": [],
      "authorship_tag": "ABX9TyMQoReDAmWg+E+xwanaZ5pz",
      "include_colab_link": true
    },
    "kernelspec": {
      "name": "python3",
      "display_name": "Python 3"
    },
    "language_info": {
      "name": "python"
    }
  },
  "cells": [
    {
      "cell_type": "markdown",
      "metadata": {
        "id": "view-in-github",
        "colab_type": "text"
      },
      "source": [
        "<a href=\"https://colab.research.google.com/github/yoohw0317/MILAB/blob/main/Lab6.ipynb\" target=\"_parent\"><img src=\"https://colab.research.google.com/assets/colab-badge.svg\" alt=\"Open In Colab\"/></a>"
      ]
    },
    {
      "cell_type": "code",
      "execution_count": 1,
      "metadata": {
        "id": "mCDmbZHcDxaD"
      },
      "outputs": [],
      "source": [
        "import torch\n",
        "import torch.nn as nn\n",
        "import torch.nn.functional as F\n",
        "import torch.optim as optim"
      ]
    },
    {
      "cell_type": "code",
      "source": [
        "torch.manual_seed\n",
        "torch.set_printoptions(sci_mode=False, precision=20)"
      ],
      "metadata": {
        "id": "r5m9EV_iKHEm"
      },
      "execution_count": 13,
      "outputs": []
    },
    {
      "cell_type": "code",
      "source": [
        "z = torch.FloatTensor([101, 102, 105, 109, 117, 118])"
      ],
      "metadata": {
        "id": "ipJtO4m8KTGI"
      },
      "execution_count": 17,
      "outputs": []
    },
    {
      "cell_type": "code",
      "source": [
        "hypothesis = F.softmax(z, dim=0)\n",
        "print(hypothesis)"
      ],
      "metadata": {
        "colab": {
          "base_uri": "https://localhost:8080/"
        },
        "id": "uITPOBn6KWKL",
        "outputId": "a6cb487d-c8f2-4557-c569-86276f35022f"
      },
      "execution_count": 18,
      "outputs": [
        {
          "output_type": "stream",
          "name": "stdout",
          "text": [
            "tensor([    0.00000003026258355021,     0.00000008226223258134,\n",
            "            0.00000165228118476080,     0.00009021149162435904,\n",
            "            0.26891666650772094727,     0.73099130392074584961])\n"
          ]
        }
      ]
    },
    {
      "cell_type": "code",
      "source": [
        "hypothesis.sum()"
      ],
      "metadata": {
        "colab": {
          "base_uri": "https://localhost:8080/"
        },
        "id": "vNlGKJ8MKbTX",
        "outputId": "6bc52e82-aa99-4e81-dc94-7050c172c635"
      },
      "execution_count": 5,
      "outputs": [
        {
          "output_type": "execute_result",
          "data": {
            "text/plain": [
              "tensor(1.)"
            ]
          },
          "metadata": {},
          "execution_count": 5
        }
      ]
    },
    {
      "cell_type": "markdown",
      "source": [
        "# **Cross Entropy Loss**"
      ],
      "metadata": {
        "id": "PF_KmktdMczD"
      }
    },
    {
      "cell_type": "code",
      "source": [
        "z = torch.rand(3, 5, requires_grad=True)\n",
        "hypothesis = F.softmax(z, dim=1)\n",
        "print(hypothesis) #prediction (y_hat)"
      ],
      "metadata": {
        "colab": {
          "base_uri": "https://localhost:8080/"
        },
        "id": "ZyqpQKAjMi5c",
        "outputId": "9be120bb-b771-4eff-f911-fba82b4a9a10"
      },
      "execution_count": 19,
      "outputs": [
        {
          "output_type": "stream",
          "name": "stdout",
          "text": [
            "tensor([[0.21000182628631591797, 0.22901710867881774902, 0.14481103420257568359,\n",
            "         0.29076102375984191895, 0.12540905177593231201],\n",
            "        [0.29387834668159484863, 0.28821721673011779785, 0.14599831402301788330,\n",
            "         0.11258735507726669312, 0.15931883454322814941],\n",
            "        [0.13891325891017913818, 0.17843909561634063721, 0.12999331951141357422,\n",
            "         0.33737406134605407715, 0.21528023481369018555]],\n",
            "       grad_fn=<SoftmaxBackward0>)\n"
          ]
        }
      ]
    },
    {
      "cell_type": "code",
      "source": [
        "y = torch.randint(5, (3,)).long()\n",
        "print(y)"
      ],
      "metadata": {
        "colab": {
          "base_uri": "https://localhost:8080/"
        },
        "id": "pimbGR8RM0Qy",
        "outputId": "45fdcd0d-0cb8-42f9-9827-e320ba11a313"
      },
      "execution_count": 20,
      "outputs": [
        {
          "output_type": "stream",
          "name": "stdout",
          "text": [
            "tensor([4, 4, 0])\n"
          ]
        }
      ]
    },
    {
      "cell_type": "code",
      "source": [
        "y_one_hot = torch.zeros_like(hypothesis)\n",
        "y_one_hot.scatter_(1, y.unsqueeze(1), 1)"
      ],
      "metadata": {
        "colab": {
          "base_uri": "https://localhost:8080/"
        },
        "id": "Y0lo-8jLNJdU",
        "outputId": "11ecb1c5-a4f8-4c21-cd26-0e21d6152510"
      },
      "execution_count": 21,
      "outputs": [
        {
          "output_type": "execute_result",
          "data": {
            "text/plain": [
              "tensor([[0., 0., 0., 0., 1.],\n",
              "        [0., 0., 0., 0., 1.],\n",
              "        [1., 0., 0., 0., 0.]])"
            ]
          },
          "metadata": {},
          "execution_count": 21
        }
      ]
    },
    {
      "cell_type": "code",
      "source": [
        "cost = (y_one_hot * - torch.log(hypothesis)).sum(dim=1).mean()\n",
        "print(cost)"
      ],
      "metadata": {
        "colab": {
          "base_uri": "https://localhost:8080/"
        },
        "id": "nIlUW86hNTEI",
        "outputId": "0f293296-fb03-4c70-cc4a-fb0a356dd179"
      },
      "execution_count": 22,
      "outputs": [
        {
          "output_type": "stream",
          "name": "stdout",
          "text": [
            "tensor(1.96230924129486083984, grad_fn=<MeanBackward0>)\n"
          ]
        }
      ]
    },
    {
      "cell_type": "code",
      "source": [
        "torch.log(F.softmax(z, dim=1))"
      ],
      "metadata": {
        "colab": {
          "base_uri": "https://localhost:8080/"
        },
        "id": "_XbfTTC7N_HH",
        "outputId": "1d05fe88-5db9-4d0e-e759-037166f65e5a"
      },
      "execution_count": 23,
      "outputs": [
        {
          "output_type": "execute_result",
          "data": {
            "text/plain": [
              "tensor([[-1.56063902378082275391, -1.47395861148834228516,\n",
              "         -1.93232560157775878906, -1.23525357246398925781,\n",
              "         -2.07617449760437011719],\n",
              "        [-1.22458934783935546875, -1.24404084682464599609,\n",
              "         -1.92416024208068847656, -2.18402576446533203125,\n",
              "         -1.83684778213500976562],\n",
              "        [-1.97390556335449218750, -1.72350788116455078125,\n",
              "         -2.04027223587036132812, -1.08656299114227294922,\n",
              "         -1.53581464290618896484]], grad_fn=<LogBackward0>)"
            ]
          },
          "metadata": {},
          "execution_count": 23
        }
      ]
    },
    {
      "cell_type": "code",
      "source": [
        "F.log_softmax(z, dim=1)"
      ],
      "metadata": {
        "colab": {
          "base_uri": "https://localhost:8080/"
        },
        "id": "Xdops3akODyK",
        "outputId": "88b39d32-98f3-4d32-ed4e-f4cbb9009e09"
      },
      "execution_count": 24,
      "outputs": [
        {
          "output_type": "execute_result",
          "data": {
            "text/plain": [
              "tensor([[-1.56063902378082275391, -1.47395861148834228516,\n",
              "         -1.93232560157775878906, -1.23525357246398925781,\n",
              "         -2.07617449760437011719],\n",
              "        [-1.22458934783935546875, -1.24404072761535644531,\n",
              "         -1.92416012287139892578, -2.18402576446533203125,\n",
              "         -1.83684778213500976562],\n",
              "        [-1.97390556335449218750, -1.72350788116455078125,\n",
              "         -2.04027223587036132812, -1.08656299114227294922,\n",
              "         -1.53581476211547851562]], grad_fn=<LogSoftmaxBackward0>)"
            ]
          },
          "metadata": {},
          "execution_count": 24
        }
      ]
    },
    {
      "cell_type": "code",
      "source": [
        "(y_one_hot * -F.log_softmax(z, dim=1)).sum(dim=1).mean()"
      ],
      "metadata": {
        "colab": {
          "base_uri": "https://localhost:8080/"
        },
        "id": "anr3wRsIOJER",
        "outputId": "1c3595bd-9039-42ad-eff3-18bba8a8904b"
      },
      "execution_count": 25,
      "outputs": [
        {
          "output_type": "execute_result",
          "data": {
            "text/plain": [
              "tensor(1.96230924129486083984, grad_fn=<MeanBackward0>)"
            ]
          },
          "metadata": {},
          "execution_count": 25
        }
      ]
    },
    {
      "cell_type": "code",
      "source": [
        "F.nll_loss(F.log_softmax(z, dim=1), y)"
      ],
      "metadata": {
        "colab": {
          "base_uri": "https://localhost:8080/"
        },
        "id": "j4on1_cvOU5C",
        "outputId": "2a588910-6410-449d-a595-0a9f3f291606"
      },
      "execution_count": 26,
      "outputs": [
        {
          "output_type": "execute_result",
          "data": {
            "text/plain": [
              "tensor(1.96230924129486083984, grad_fn=<NllLossBackward0>)"
            ]
          },
          "metadata": {},
          "execution_count": 26
        }
      ]
    },
    {
      "cell_type": "code",
      "source": [
        "F.cross_entropy(z, y)"
      ],
      "metadata": {
        "colab": {
          "base_uri": "https://localhost:8080/"
        },
        "id": "5AYJjKXTOZX4",
        "outputId": "a5fcb11c-b4e4-4f39-ac3f-dd4bacc26c42"
      },
      "execution_count": 27,
      "outputs": [
        {
          "output_type": "execute_result",
          "data": {
            "text/plain": [
              "tensor(1.96230924129486083984, grad_fn=<NllLossBackward0>)"
            ]
          },
          "metadata": {},
          "execution_count": 27
        }
      ]
    },
    {
      "cell_type": "code",
      "source": [
        "x_train = [[1, 2, 4, 6],\n",
        "           [2, 4, 6, 3],\n",
        "           [4, 2, 9, 8],\n",
        "           [12, 24, 25, 28],\n",
        "           [41, 90, 50, 40],\n",
        "           [10, 20, 30, 45],\n",
        "           [20, 100, 80, 77]]\n",
        "y_train = [0, 3, 2, 2, 0, 3, 3]\n",
        "x_train = torch.FloatTensor(x_train)\n",
        "y_train = torch.LongTensor(y_train)"
      ],
      "metadata": {
        "id": "DqRgmuhBQH48"
      },
      "execution_count": 42,
      "outputs": []
    },
    {
      "cell_type": "code",
      "source": [
        "W = torch.zeros((4, 4), requires_grad=True)\n",
        "b = torch.zeros(1, requires_grad=True)\n",
        "# optimizer 설정\n",
        "optimizer = optim.SGD([W, b], lr=0.1)\n",
        "\n",
        "nb_epochs = 1000\n",
        "for epoch in range(nb_epochs + 1):\n",
        "\n",
        "    # Cost 계산 (1)\n",
        "    hypothesis = F.softmax(x_train.matmul(W) + b, dim=1) # or .mm or @\n",
        "    y_one_hot = torch.zeros_like(hypothesis)\n",
        "    y_one_hot.scatter_(1, y_train.unsqueeze(1), 1)\n",
        "    cost = (y_one_hot * -torch.log(F.softmax(hypothesis, dim=1))).sum(dim=1).mean()\n",
        "\n",
        "    # cost로 H(x) 개선\n",
        "    optimizer.zero_grad()\n",
        "    cost.backward()\n",
        "    optimizer.step()\n",
        "\n",
        "\n",
        "    if epoch % 100 == 0:\n",
        "      print(f'Epoch {epoch:4d}/{nb_epochs}, Cost: {cost.item():.6f}')"
      ],
      "metadata": {
        "colab": {
          "base_uri": "https://localhost:8080/"
        },
        "id": "lDURkLlPQtpR",
        "outputId": "eaa10e41-91fe-4802-f1b1-c229b9f1ad3f"
      },
      "execution_count": 52,
      "outputs": [
        {
          "output_type": "stream",
          "name": "stdout",
          "text": [
            "Epoch    0/1000, Cost: 1.386294\n",
            "Epoch  100/1000, Cost: 1.227364\n",
            "Epoch  200/1000, Cost: 1.218031\n",
            "Epoch  300/1000, Cost: 1.204068\n",
            "Epoch  400/1000, Cost: 1.196014\n",
            "Epoch  500/1000, Cost: 1.190228\n",
            "Epoch  600/1000, Cost: 1.186364\n",
            "Epoch  700/1000, Cost: 1.183378\n",
            "Epoch  800/1000, Cost: 1.180963\n",
            "Epoch  900/1000, Cost: 1.178980\n",
            "Epoch 1000/1000, Cost: 1.177330\n"
          ]
        }
      ]
    },
    {
      "cell_type": "code",
      "source": [
        "W = torch.zeros((4, 4), requires_grad=True)\n",
        "b = torch.zeros(1, requires_grad=True)\n",
        "# optimizer 설정\n",
        "optimizer = optim.SGD([W, b], lr=0.1)\n",
        "\n",
        "nb_epochs = 1000\n",
        "for epoch in range(nb_epochs + 1):\n",
        "\n",
        "    # Cost 계산 (2)\n",
        "    z = x_train.matmul(W) + b # or .mm or @\n",
        "    cost = F.cross_entropy(z, y_train)\n",
        "\n",
        "    # cost로 H(x) 개선\n",
        "    optimizer.zero_grad()\n",
        "    cost.backward()\n",
        "    optimizer.step()\n",
        "\n",
        "\n",
        "    if epoch % 100 == 0:\n",
        "      print(f'Epoch {epoch:4d}/{nb_epochs}, Cost: {cost.item():.6f}')"
      ],
      "metadata": {
        "colab": {
          "base_uri": "https://localhost:8080/"
        },
        "id": "kWbFj7CmTtRU",
        "outputId": "bb447e6c-d683-4d5f-f9aa-b0d866decafb"
      },
      "execution_count": 53,
      "outputs": [
        {
          "output_type": "stream",
          "name": "stdout",
          "text": [
            "Epoch    0/1000, Cost: 1.386294\n",
            "Epoch  100/1000, Cost: 4.781619\n",
            "Epoch  200/1000, Cost: 1.763522\n",
            "Epoch  300/1000, Cost: 8.481661\n",
            "Epoch  400/1000, Cost: 1.565037\n",
            "Epoch  500/1000, Cost: 1.831817\n",
            "Epoch  600/1000, Cost: 1.445968\n",
            "Epoch  700/1000, Cost: 1.800390\n",
            "Epoch  800/1000, Cost: 1.433392\n",
            "Epoch  900/1000, Cost: 3.923111\n",
            "Epoch 1000/1000, Cost: 4.121965\n"
          ]
        }
      ]
    },
    {
      "cell_type": "code",
      "source": [
        "class SoftmaxClassifierModel(nn.Module):\n",
        "    def __init__(self):\n",
        "        super().__init__()\n",
        "        self.linear = nn.Linear(4, 4)\n",
        "\n",
        "    def forward(self, x):\n",
        "        return self.linear(x)"
      ],
      "metadata": {
        "id": "KgJsRt-HWtSE"
      },
      "execution_count": 59,
      "outputs": []
    },
    {
      "cell_type": "code",
      "source": [
        "model = SoftmaxClassifierModel()"
      ],
      "metadata": {
        "id": "xh8OlCyiWtTm"
      },
      "execution_count": 60,
      "outputs": []
    },
    {
      "cell_type": "code",
      "source": [
        "optimizer = optim.SGD(model.parameters(), lr=0.1)\n",
        "\n",
        "nb_epochs = 1000\n",
        "for epoch in range(nb_epochs + 1):\n",
        "\n",
        "    # H(x) 계산\n",
        "    prediction = model(x_train)\n",
        "\n",
        "    # cost 계산\n",
        "    cost = F.cross_entropy(prediction, y_train)\n",
        "\n",
        "    # cost로 H(x) 개선\n",
        "    optimizer.zero_grad()\n",
        "    cost.backward()\n",
        "    optimizer.step()\n",
        "\n",
        "    if epoch % 100 == 0:\n",
        "      print(f'Epoch {epoch:4d}/{nb_epochs}, Cost: {cost.item():.6f}')"
      ],
      "metadata": {
        "colab": {
          "base_uri": "https://localhost:8080/"
        },
        "id": "2lQHJuojXCIn",
        "outputId": "d4c384e5-8fe9-4aea-e890-74bbc267c2ee"
      },
      "execution_count": 61,
      "outputs": [
        {
          "output_type": "stream",
          "name": "stdout",
          "text": [
            "Epoch    0/1000, Cost: 23.283094\n",
            "Epoch  100/1000, Cost: 3.000828\n",
            "Epoch  200/1000, Cost: 20.661602\n",
            "Epoch  300/1000, Cost: 12.299396\n",
            "Epoch  400/1000, Cost: 0.592501\n",
            "Epoch  500/1000, Cost: 4.038273\n",
            "Epoch  600/1000, Cost: 0.025027\n",
            "Epoch  700/1000, Cost: 0.013583\n",
            "Epoch  800/1000, Cost: 0.010057\n",
            "Epoch  900/1000, Cost: 0.008170\n",
            "Epoch 1000/1000, Cost: 0.006942\n"
          ]
        }
      ]
    }
  ]
}