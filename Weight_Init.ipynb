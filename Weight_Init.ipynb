{
  "nbformat": 4,
  "nbformat_minor": 0,
  "metadata": {
    "colab": {
      "name": "Weight_Init.ipynb",
      "provenance": [],
      "authorship_tag": "ABX9TyMFNWcPyX7FQfsDk+1f6K3w",
      "include_colab_link": true
    },
    "kernelspec": {
      "name": "python3",
      "display_name": "Python 3"
    },
    "language_info": {
      "name": "python"
    }
  },
  "cells": [
    {
      "cell_type": "markdown",
      "metadata": {
        "id": "view-in-github",
        "colab_type": "text"
      },
      "source": [
        "<a href=\"https://colab.research.google.com/github/yoohw0317/MILAB/blob/main/Weight_Init.ipynb\" target=\"_parent\"><img src=\"https://colab.research.google.com/assets/colab-badge.svg\" alt=\"Open In Colab\"/></a>"
      ]
    },
    {
      "cell_type": "code",
      "execution_count": 1,
      "metadata": {
        "id": "IritIolhn8KL"
      },
      "outputs": [],
      "source": [
        "import torch\n",
        "import random\n",
        "import matplotlib.pyplot as plt"
      ]
    },
    {
      "cell_type": "code",
      "source": [
        "torch.manual_seed(317)"
      ],
      "metadata": {
        "colab": {
          "base_uri": "https://localhost:8080/"
        },
        "id": "plvPXgpDoRmw",
        "outputId": "aa01deb8-0de3-408d-ba2d-3ebf741b3bf7"
      },
      "execution_count": 2,
      "outputs": [
        {
          "output_type": "execute_result",
          "data": {
            "text/plain": [
              "<torch._C.Generator at 0x7f0eb73eef70>"
            ]
          },
          "metadata": {},
          "execution_count": 2
        }
      ]
    },
    {
      "cell_type": "code",
      "source": [
        "X = torch.rand(10000, requires_grad = True)\n",
        "Y = torch.Tensor([0, 1]).to(torch.long)"
      ],
      "metadata": {
        "id": "2LWpfFuPoroT"
      },
      "execution_count": 3,
      "outputs": []
    },
    {
      "cell_type": "code",
      "source": [
        "Y"
      ],
      "metadata": {
        "colab": {
          "base_uri": "https://localhost:8080/"
        },
        "id": "Zdk0kHkxLnx0",
        "outputId": "dde8b73d-b0aa-46ff-a0f8-998cb9f3bb72"
      },
      "execution_count": 4,
      "outputs": [
        {
          "output_type": "execute_result",
          "data": {
            "text/plain": [
              "tensor([0, 1])"
            ]
          },
          "metadata": {},
          "execution_count": 4
        }
      ]
    },
    {
      "cell_type": "code",
      "source": [
        "layer = {}\n",
        "layer[0] = torch.nn.Linear(10000, 5000, bias=True)\n",
        "layer[1] = torch.nn.Linear(5000, 2500, bias=True)\n",
        "layer[2] = torch.nn.Linear(2500, 1000, bias=True)\n",
        "layer[3] = torch.nn.Linear(1000, 500, bias=True)\n",
        "layer[4] = torch.nn.Linear(500, 2, bias=True)\n",
        "sigmoid = torch.nn.Sigmoid()"
      ],
      "metadata": {
        "id": "tElDJRVbqFj8"
      },
      "execution_count": 5,
      "outputs": []
    },
    {
      "cell_type": "code",
      "source": [
        "torch.nn.init.normal_(layer[0].weight, mean=0.0, std=1.0)\n",
        "torch.nn.init.normal_(layer[1].weight, mean=0.0, std=1.0)\n",
        "torch.nn.init.normal_(layer[2].weight, mean=0.0, std=1.0)\n",
        "torch.nn.init.normal_(layer[3].weight, mean=0.0, std=1.0)\n",
        "torch.nn.init.normal_(layer[4].weight, mean=0.0, std=1.0)"
      ],
      "metadata": {
        "colab": {
          "base_uri": "https://localhost:8080/"
        },
        "id": "r-iBahTkwXix",
        "outputId": "19086f83-2aef-4e59-e0ed-09a6bedc4d3b"
      },
      "execution_count": 6,
      "outputs": [
        {
          "output_type": "execute_result",
          "data": {
            "text/plain": [
              "Parameter containing:\n",
              "tensor([[-9.5333e-01, -2.5418e-02,  3.8395e-01, -1.3723e+00, -6.4928e-02,\n",
              "          7.1304e-01,  1.1605e-01,  9.5603e-01,  6.5417e-01,  1.5247e+00,\n",
              "          1.5595e-01, -6.0711e-01,  1.3826e+00,  6.6197e-01, -7.3622e-01,\n",
              "         -2.9068e-01,  2.1984e+00,  8.7000e-01, -1.1518e+00, -1.6129e+00,\n",
              "         -1.0731e-01, -2.4081e-01, -1.8792e+00, -6.1395e-01, -7.6425e-01,\n",
              "          1.2077e-01,  9.6181e-02, -5.3273e-01, -1.8169e+00,  2.2572e-01,\n",
              "         -3.6738e-01,  4.9118e-01, -1.2213e+00,  1.3677e-01,  1.1479e+00,\n",
              "          6.8538e-01,  1.6363e-01,  6.8390e-02, -1.0634e+00, -2.2567e+00,\n",
              "          9.2067e-01,  8.1991e-01,  8.6678e-01,  1.1959e-03,  2.6746e-01,\n",
              "          2.5836e-01, -3.4166e-01,  6.8948e-01, -9.6860e-01, -1.4769e+00,\n",
              "          8.3527e-02,  2.0123e-01, -9.0258e-01, -1.7591e-01,  6.8829e-01,\n",
              "         -8.8888e-01, -5.7165e-01, -7.9646e-01,  1.1529e+00,  1.6196e-01,\n",
              "          8.9152e-02,  1.0413e-01, -2.0061e+00, -1.4542e+00,  7.3595e-01,\n",
              "         -5.9066e-01,  3.0211e-01, -2.4417e-01, -1.0092e+00, -1.4733e+00,\n",
              "          2.6943e-01,  4.5947e-01,  5.7202e-02, -1.5123e+00,  1.0559e-01,\n",
              "          1.1651e-01,  1.2280e+00,  2.5963e-02,  7.0002e-02,  4.7780e-02,\n",
              "          5.6532e-01, -3.6347e-02,  7.4893e-01, -6.4967e-01, -1.7816e-01,\n",
              "          1.1528e+00,  7.8235e-01, -1.2444e+00,  2.7368e-01, -7.9591e-01,\n",
              "          6.3076e-01,  1.0973e+00,  4.3866e-01,  4.9112e-01, -5.2100e-01,\n",
              "         -8.4164e-01, -6.6921e-02, -1.2546e+00,  1.3553e+00,  3.0523e-01,\n",
              "         -1.3462e-01, -1.5474e+00, -4.6215e-01, -1.9032e-01, -7.4270e-01,\n",
              "         -2.2334e+00,  3.1388e-02, -9.2137e-01, -2.3104e-01,  7.7085e-01,\n",
              "         -1.6326e-01,  2.0035e+00,  6.3967e-01,  1.4697e-01,  7.1688e-01,\n",
              "         -2.3535e+00,  1.0860e+00,  4.0089e-01,  7.6687e-01,  5.7159e-01,\n",
              "         -6.9908e-01, -1.2734e+00,  4.9280e-01,  7.8977e-01, -2.3882e-01,\n",
              "         -1.0210e+00,  2.3256e+00, -7.2838e-02, -2.2927e+00,  2.3222e-01,\n",
              "          6.6395e-01, -1.1791e+00,  1.0195e+00,  3.2868e-01,  4.0789e-01,\n",
              "          1.5408e-01, -4.4291e-01,  1.1137e-01,  1.2638e+00, -7.4424e-01,\n",
              "         -3.3500e-01, -1.0004e-01, -1.0481e+00, -1.3194e+00, -1.2500e+00,\n",
              "          8.9966e-01, -2.0868e+00,  2.7074e-01, -9.9667e-01, -8.5304e-01,\n",
              "         -4.2201e-03, -5.3608e-01, -1.6910e+00, -1.0228e+00,  3.1530e-01,\n",
              "         -1.7909e+00, -7.1512e-01, -7.5013e-02,  9.4074e-01,  1.7074e+00,\n",
              "         -3.7598e-01, -1.4378e-01,  8.0779e-01, -2.2345e+00,  9.0684e-01,\n",
              "         -4.4733e-01,  1.5709e+00, -5.0652e-01,  1.5378e+00,  7.1528e-01,\n",
              "          5.1692e-01,  3.7342e-01,  2.5140e-02, -6.8272e-02,  1.7173e-02,\n",
              "          3.9233e-01, -1.0732e+00, -2.2673e-01, -2.3459e-01, -1.8286e+00,\n",
              "          3.0582e+00, -4.7514e-01,  6.4538e-01,  7.0178e-02, -2.4201e-01,\n",
              "          4.4122e-01,  8.2665e-01,  4.8577e-01, -9.8236e-01, -6.5636e-01,\n",
              "          2.4898e-01, -4.8478e-01, -1.2778e+00, -4.8730e-01, -1.1565e-02,\n",
              "         -1.3694e-01, -7.9067e-01, -1.2564e+00,  1.3512e-01,  2.2847e+00,\n",
              "         -6.8191e-01,  5.8763e-02, -1.6358e+00,  3.6033e-02, -8.0222e-01,\n",
              "         -1.0624e+00,  8.1527e-02, -1.3737e+00, -8.5570e-01,  1.6329e+00,\n",
              "          2.2249e+00,  2.5220e-01, -1.1000e-01, -4.5254e-01,  4.7458e-01,\n",
              "          1.5672e-01,  3.8794e-01, -8.5010e-01,  9.4791e-02,  8.9836e-01,\n",
              "          3.9096e-01, -1.8287e+00,  6.2997e-01,  5.5709e-02,  8.1198e-01,\n",
              "          1.2868e+00, -1.1897e-02,  5.8120e-01,  1.0796e+00,  1.3422e+00,\n",
              "         -5.0180e-01,  1.5980e+00, -1.4653e+00, -2.1301e-01,  2.8970e-01,\n",
              "         -1.8729e+00, -1.8726e-01, -1.2912e+00,  3.5362e-01,  1.5924e+00,\n",
              "         -8.7059e-01, -1.4067e+00,  2.4168e-01,  1.2981e+00,  2.0121e+00,\n",
              "         -1.0682e+00,  1.3232e+00, -1.6793e+00,  4.5535e-01, -8.0710e-01,\n",
              "          4.9395e-02, -1.3117e+00,  1.1392e+00,  1.0449e+00, -1.5146e+00,\n",
              "          9.6451e-01, -1.1114e+00,  1.3177e+00, -4.5430e-01,  6.0402e-01,\n",
              "         -1.5162e+00,  1.5548e+00, -1.2146e+00,  6.8522e-01, -6.7058e-01,\n",
              "         -2.7574e+00,  5.5731e-01,  9.0197e-01,  1.3426e-01,  1.1636e+00,\n",
              "          1.2586e+00, -1.4419e-01, -1.9514e+00, -1.9432e-01, -2.1382e+00,\n",
              "          7.4594e-01,  6.8321e-01,  1.5028e+00, -8.9423e-01,  9.7944e-01,\n",
              "         -7.7747e-02, -9.0020e-02, -1.3112e+00,  7.4426e-02, -8.0918e-01,\n",
              "         -9.8255e-01,  2.1500e+00,  1.3707e-02, -5.0972e-01, -4.9720e-01,\n",
              "         -3.6787e-01,  5.4373e-02, -2.9047e+00,  1.6986e+00,  4.0759e-02,\n",
              "          1.0577e+00, -1.0061e+00,  6.7924e-02,  2.0441e+00,  1.3441e+00,\n",
              "          2.4981e-01,  3.2620e-01,  2.8093e-01,  4.3340e-01,  3.5062e-01,\n",
              "          9.0610e-01,  4.6259e-01,  1.7145e+00, -8.0856e-02,  2.1967e+00,\n",
              "          6.7630e-01,  1.0425e+00, -9.0460e-01,  1.0219e+00, -3.9428e-01,\n",
              "          1.3792e+00, -5.7420e-01,  2.4427e-02,  1.0587e-02,  1.5152e-01,\n",
              "          9.3440e-01,  3.0507e-01, -9.5011e-02,  2.0010e-01, -3.6833e-02,\n",
              "         -1.5170e-01,  1.6494e+00,  6.7706e-02, -1.4553e-01,  2.5899e-01,\n",
              "          9.8154e-02,  1.6135e+00, -8.5569e-01, -1.5933e+00,  1.7478e-01,\n",
              "         -2.0021e-01,  7.2468e-01, -3.3770e-03,  1.9919e-01, -1.8799e-02,\n",
              "          8.7275e-01, -6.0162e-02,  5.9006e-02,  2.1020e+00, -7.6704e-01,\n",
              "         -4.3949e-01, -1.9436e+00, -1.1513e+00, -1.0282e+00, -9.5739e-01,\n",
              "          1.6031e-01, -1.0773e+00, -9.3670e-01,  1.5257e+00,  9.9333e-01,\n",
              "         -3.3129e-01,  1.2289e+00,  1.4296e+00, -1.3754e-01,  1.6162e-01,\n",
              "         -1.3719e+00, -1.1168e+00,  5.9408e-01,  1.2292e-01,  4.7245e-01,\n",
              "          1.0077e+00,  1.2550e-01,  1.4399e+00, -1.1887e-01, -5.3005e-01,\n",
              "         -9.7479e-01, -1.7961e-01,  1.9732e+00,  1.9581e+00,  1.0603e+00,\n",
              "         -6.6580e-01, -2.2204e-01, -2.1334e-01, -7.1449e-01,  8.3428e-01,\n",
              "          5.0582e-01,  1.6319e+00, -5.6618e-01, -1.0352e+00, -7.8732e-02,\n",
              "         -1.1457e-01,  8.2450e-01, -8.0401e-01,  9.0019e-01,  2.1565e-01,\n",
              "          3.0355e-01, -7.4740e-01,  1.1052e+00,  8.9044e-01, -5.2817e-01,\n",
              "          5.2759e-01,  1.0184e+00, -1.3159e+00,  2.6405e-01,  8.7892e-01,\n",
              "          3.7740e-01,  1.2209e+00,  8.9221e-01, -3.9346e-01,  2.1483e+00,\n",
              "          1.2651e-01, -1.0675e+00, -2.9157e-01,  1.5051e-01, -2.0235e-02,\n",
              "         -5.3999e-01,  5.0941e-01, -9.0495e-01,  1.8642e+00, -1.7114e+00,\n",
              "          1.2277e+00,  3.5755e-01,  9.2763e-01, -1.3861e+00,  1.0971e+00,\n",
              "         -5.3375e-02,  1.4728e+00,  1.0811e+00, -1.5971e-01,  6.8825e-01,\n",
              "         -1.0887e+00, -3.0503e-02,  3.0944e-01, -4.1819e-01, -1.4715e+00,\n",
              "         -1.1742e-01,  3.1305e-03,  8.9937e-01, -5.2223e-02, -1.2683e+00,\n",
              "         -4.5617e-01,  9.9599e-01, -2.1399e+00,  1.7125e+00, -2.6615e-01,\n",
              "         -1.1914e-02, -4.8478e-01,  9.7802e-01,  1.9137e-01, -2.1658e-01,\n",
              "          7.0975e-01, -6.8592e-01, -7.1285e-01,  1.0955e+00, -4.5262e-02,\n",
              "         -2.2076e-01,  8.4718e-01,  8.9042e-02, -1.1800e+00, -1.1038e+00,\n",
              "          1.4481e+00, -4.0258e-01, -2.1198e+00, -7.8656e-01,  1.2970e-01,\n",
              "          2.5552e-02,  8.8913e-01,  3.5080e-01, -7.0263e-01, -1.2316e+00,\n",
              "          2.9802e-01,  1.7641e+00, -1.1741e-01, -1.1939e+00, -1.0339e+00,\n",
              "          4.5491e-01, -7.2377e-01,  1.4353e+00,  2.0038e+00,  9.5984e-01,\n",
              "         -1.0380e+00, -3.5664e-01, -7.5883e-02,  1.7176e+00, -1.3425e+00,\n",
              "          1.7205e+00,  3.0455e-01,  6.3643e-01,  1.4997e+00, -6.3872e-01,\n",
              "         -2.2757e-02, -1.5279e+00,  1.5663e-02,  5.0004e-01,  6.3861e-01,\n",
              "         -7.7140e-01,  3.7402e-01, -5.0530e-01, -4.6880e-01, -2.7623e-01,\n",
              "          8.8311e-01,  8.1470e-02, -3.5750e-01,  1.3435e+00, -2.0893e+00],\n",
              "        [ 8.7509e-01, -1.5717e-01, -2.3420e-02, -1.3289e+00,  1.0353e+00,\n",
              "          2.1957e-01,  2.9800e+00, -6.7668e-01, -1.8302e-01, -1.0261e+00,\n",
              "          3.0051e-01,  5.4762e-01,  1.1601e+00, -1.4799e-01,  3.8806e-01,\n",
              "          1.1898e+00,  1.4305e-01,  1.2860e+00,  2.9263e+00, -7.7563e-01,\n",
              "          1.8393e-01,  5.2633e-01, -1.4846e+00, -9.3213e-01,  2.9736e-01,\n",
              "         -6.1623e-01,  3.0414e-01,  1.2041e+00,  2.1095e-02,  5.4361e-01,\n",
              "         -1.2045e+00,  4.3057e-01,  1.6488e-01,  1.8627e+00, -1.7704e-01,\n",
              "         -1.5371e-01,  2.0000e-01,  2.3407e+00, -3.8170e-01,  1.0718e-01,\n",
              "          1.1567e+00, -9.9866e-01, -1.6507e+00,  1.2557e+00, -9.7166e-01,\n",
              "         -5.9917e-01, -3.7621e-01,  7.6735e-01,  1.2703e+00, -8.6049e-01,\n",
              "          1.2413e+00,  1.3099e+00,  4.2866e-01, -1.9475e-01,  4.7730e-01,\n",
              "          1.2600e+00, -1.4644e+00, -3.1464e-01, -1.0174e+00,  1.0142e+00,\n",
              "         -3.7776e-01,  3.9298e-01,  4.7446e-01, -5.8124e-01,  6.3337e-01,\n",
              "          1.6101e+00,  1.7527e-01,  7.3524e-02,  6.6538e-01, -1.8133e+00,\n",
              "          4.4829e-01,  9.2440e-01,  4.6119e-01, -9.4135e-01,  9.5877e-01,\n",
              "          1.6774e-01,  3.3223e-01,  3.6424e-02, -3.2546e-01,  1.7828e+00,\n",
              "         -2.0357e-01, -2.2931e-01,  9.3008e-01,  6.7227e-01, -7.4269e-01,\n",
              "         -9.7896e-01, -4.7573e-01, -3.1051e-01, -3.0664e-01,  5.6845e-01,\n",
              "          1.1806e+00, -1.1458e-01,  2.2328e-01, -6.9379e-02,  1.9341e+00,\n",
              "          8.7193e-01, -5.2851e-02,  1.0823e-01,  6.6020e-01,  2.7431e-01,\n",
              "          1.7688e+00, -1.5746e-01, -4.8344e-02,  2.6119e+00,  1.6314e+00,\n",
              "         -5.6770e-03, -8.1313e-01, -4.2382e-01, -1.5656e+00,  1.8104e+00,\n",
              "         -3.1827e-01,  6.6038e-01,  3.2740e-01, -4.4968e-01, -9.2056e-01,\n",
              "          3.2800e-01,  1.2820e+00, -7.8879e-01, -1.1776e+00,  1.6473e-01,\n",
              "         -7.3959e-01, -7.1104e-01,  5.3609e-01,  3.0328e-01, -4.2253e-01,\n",
              "          2.7879e-01,  2.0660e-01,  1.7267e+00, -2.1194e+00, -1.5671e-01,\n",
              "          6.8635e-01, -1.3044e+00,  1.9989e-01,  3.7556e-01,  2.6783e-01,\n",
              "         -4.3434e-01,  1.1229e+00, -4.1774e+00, -1.8532e+00,  7.0822e-01,\n",
              "          2.1107e+00, -8.1736e-01,  3.3620e-01,  1.6691e-01, -2.2555e-01,\n",
              "         -5.6990e-01, -1.7290e+00,  8.6901e-01,  2.6566e-01, -7.5961e-01,\n",
              "         -5.8469e-01, -1.5406e-01, -6.1855e-02, -8.6263e-01,  4.0088e-02,\n",
              "         -4.5291e-01, -4.4435e-02, -8.4957e-01, -3.5691e-01, -8.8286e-01,\n",
              "          9.1870e-01, -1.0471e+00, -7.0414e-02,  1.3861e+00, -1.6910e+00,\n",
              "         -2.3412e-01, -9.6126e-01, -7.5115e-01, -1.4903e+00,  1.2053e+00,\n",
              "          7.0802e-01,  5.8237e-01,  1.2532e+00, -9.9736e-01,  9.5958e-01,\n",
              "          5.8903e-01,  2.9171e-01, -1.0984e+00, -7.0186e-02,  2.3252e-01,\n",
              "         -4.9517e-01,  2.4295e-01,  6.8511e-01, -1.0668e-01, -1.1298e-01,\n",
              "          2.4012e-01,  1.3623e+00, -7.4975e-01,  1.4952e-01,  8.3901e-02,\n",
              "          1.4824e+00,  3.8360e-01,  4.5831e-01,  1.6120e+00, -8.3552e-02,\n",
              "          1.0606e+00, -1.7250e-01, -1.3865e+00,  1.1410e+00, -8.2913e-01,\n",
              "          5.0325e-01,  7.4638e-01, -4.1429e-01,  2.8595e+00,  6.9399e-02,\n",
              "          3.2758e-01, -1.4788e+00, -6.2634e-01, -5.2619e-01, -8.0864e-01,\n",
              "         -4.3798e-01, -1.0609e+00,  4.2451e-01,  7.5814e-01, -9.9130e-01,\n",
              "         -8.6223e-01, -8.3319e-01,  3.2567e-01, -3.5483e-01, -2.0429e+00,\n",
              "          3.6100e-01, -1.0708e+00, -4.2447e-01, -8.0958e-01,  2.9442e-01,\n",
              "          4.4299e-01, -3.0084e+00, -9.1499e-01,  1.6935e+00, -1.6088e+00,\n",
              "          3.5671e-01, -9.4970e-01, -7.0699e-01, -1.8609e+00, -1.5204e+00,\n",
              "          3.9855e-01,  1.9623e+00,  3.0023e-01, -1.4869e-01,  9.1501e-02,\n",
              "          9.0722e-01,  4.0668e-01,  8.1259e-01,  1.4231e-01, -1.4274e+00,\n",
              "         -2.9876e-01, -2.0826e+00,  6.8387e-01, -1.8637e+00,  2.0702e+00,\n",
              "         -1.1662e+00, -9.3172e-01, -1.2514e+00,  4.9552e-01, -4.7655e-01,\n",
              "          7.7244e-02,  1.5946e-01,  5.6469e-01,  1.3295e+00,  7.5851e-02,\n",
              "         -9.7622e-01, -2.3756e-01,  9.9261e-02,  3.5035e-01,  2.2356e+00,\n",
              "          5.1090e-01, -7.7865e-01, -6.1815e-02, -6.2285e-01,  6.7972e-01,\n",
              "         -8.1813e-01,  3.0902e-02, -2.3947e+00, -2.3542e-01, -7.3072e-01,\n",
              "          7.0679e-02,  4.6035e-01, -1.9644e+00, -1.0504e+00,  4.5770e-01,\n",
              "          1.6106e+00, -8.6345e-01,  1.4303e+00,  6.3081e-01,  1.1609e+00,\n",
              "          4.1090e-02,  8.1630e-01, -1.6775e-02,  2.6167e-01, -3.4758e-01,\n",
              "          2.8875e-01,  4.5940e-01,  5.5334e-02,  1.4174e+00, -5.0653e-01,\n",
              "         -2.1605e-02,  2.3464e-01, -1.4295e-01,  2.3861e-02,  2.4968e-01,\n",
              "         -1.0522e+00,  1.8223e+00, -4.1134e-01,  1.0090e+00, -1.7699e-01,\n",
              "          8.9353e-01, -1.1892e+00, -1.0134e-01,  9.4249e-01,  6.6803e-01,\n",
              "          5.6740e-01, -3.0475e-02, -3.0900e-01,  9.5529e-01,  6.4035e-01,\n",
              "         -1.2807e-01,  1.2945e+00,  1.8297e+00,  8.0525e-02, -1.2887e+00,\n",
              "         -3.1716e-01,  3.5085e-01,  3.7770e-01, -1.5101e-01, -9.2425e-02,\n",
              "          7.2674e-01, -2.1454e+00, -3.2510e-01,  2.7481e-01, -1.1299e+00,\n",
              "          3.0965e-01, -7.8429e-01,  1.0840e+00,  4.9858e-01, -2.2641e-01,\n",
              "          8.2642e-01,  4.8156e-01, -8.5704e-01, -1.1986e+00,  3.4571e-01,\n",
              "         -4.6417e-02,  3.3654e-01,  3.0995e-01,  6.1841e-01,  1.6093e+00,\n",
              "         -7.2329e-01,  3.0769e-01, -8.4532e-01, -2.3623e+00,  1.0413e+00,\n",
              "          1.4158e+00, -8.1356e-01,  1.2389e+00,  1.0203e+00,  6.8624e-01,\n",
              "         -3.0585e-01,  1.4462e+00, -2.1672e-01, -1.3088e+00, -9.7805e-01,\n",
              "          8.1762e-02,  1.0428e+00,  4.4791e-01, -5.6685e-01,  1.3449e+00,\n",
              "          7.7452e-01, -8.6803e-03, -1.1280e+00, -3.1747e+00,  1.3617e+00,\n",
              "         -7.4526e-01,  7.6784e-01,  7.2170e-01,  1.2483e+00, -7.9898e-01,\n",
              "         -2.0853e+00,  5.0447e-01, -1.4469e+00, -7.9758e-01,  4.4143e-01,\n",
              "          1.2867e-01,  2.0996e+00, -1.0966e-01, -5.7407e-01,  6.6817e-01,\n",
              "         -4.6466e-01,  1.4836e+00,  1.3021e-02,  2.3986e+00, -4.5742e-02,\n",
              "          8.2965e-01, -3.4946e+00, -1.1626e-01, -7.0129e-01,  1.4291e-01,\n",
              "          9.2245e-01,  5.0987e-01, -3.1119e-01,  9.6439e-01, -1.2783e+00,\n",
              "         -1.1042e+00,  7.4836e-01,  4.0860e-01,  5.1652e-01,  3.0127e-01,\n",
              "         -1.3017e+00,  3.5391e-01,  7.3788e-01, -2.6337e-01, -8.2054e-01,\n",
              "          1.8034e-03,  4.4936e-01, -5.8088e-01,  1.2604e-01, -4.9008e-01,\n",
              "         -1.3351e-02,  7.0137e-01, -5.0321e-01,  8.4614e-01, -3.0612e-01,\n",
              "         -4.0343e-02,  9.2361e-01, -1.0380e+00,  1.9867e-01,  1.0210e+00,\n",
              "          7.1950e-01, -1.6003e+00,  2.1153e+00, -7.4391e-01,  1.1564e+00,\n",
              "         -3.1049e+00,  2.4476e+00, -5.7515e-01, -5.7545e-01, -4.1532e-01,\n",
              "         -2.2237e+00, -1.3914e+00, -5.8410e-02, -7.2760e-01,  7.0529e-01,\n",
              "         -3.3748e-01, -1.0171e+00,  2.8406e-01,  7.3855e-01,  4.3602e-01,\n",
              "          1.0429e+00,  8.1053e-01,  1.6310e-01,  9.0247e-01, -3.5719e-01,\n",
              "         -4.3833e-01, -8.1615e-01, -7.1685e-01,  4.5494e-01, -1.4664e+00,\n",
              "         -3.3917e-01, -2.0930e+00, -9.0452e-01,  7.0538e-02, -4.5521e-01,\n",
              "          5.7212e-01,  1.1186e+00,  1.2299e+00, -1.5729e-01,  1.6035e+00,\n",
              "          1.5052e+00, -4.1573e-01, -9.4775e-01,  1.1365e+00, -1.2443e-01,\n",
              "         -4.4611e-02,  6.1473e-01,  1.4266e+00, -2.3047e+00,  1.2054e-01,\n",
              "          3.8249e-01, -3.0170e-01,  2.3695e+00,  1.8506e+00,  1.0131e+00,\n",
              "         -1.0457e-02,  1.1263e+00,  1.1347e+00,  2.1034e-01, -3.1092e-01,\n",
              "          3.1016e-01,  6.6176e-01,  2.2227e-01, -1.7846e+00,  1.6355e+00,\n",
              "          6.7845e-01,  1.6955e+00,  1.1194e-01,  9.5857e-02,  2.6128e-01,\n",
              "         -8.6115e-01, -6.3554e-01,  5.8067e-01, -7.9421e-01, -5.9179e-02]],\n",
              "       requires_grad=True)"
            ]
          },
          "metadata": {},
          "execution_count": 6
        }
      ]
    },
    {
      "cell_type": "code",
      "source": [
        "plt.figure(figsize=(30,5))\n",
        "plt.subplot(1, len(layer), 5)\n",
        "plt.hist(layer[0].weight.data[0:20])"
      ],
      "metadata": {
        "colab": {
          "base_uri": "https://localhost:8080/",
          "height": 1000
        },
        "id": "IfuImZqYxAXF",
        "outputId": "9bcf8fdd-61b0-40f4-dc5b-8fea950c51fc"
      },
      "execution_count": 7,
      "outputs": [
        {
          "output_type": "execute_result",
          "data": {
            "text/plain": [
              "(array([[1.000e+00, 2.200e+01, 2.930e+02, 1.304e+03, 2.964e+03, 3.271e+03,\n",
              "         1.694e+03, 4.090e+02, 4.000e+01, 2.000e+00],\n",
              "        [0.000e+00, 2.800e+01, 2.530e+02, 1.160e+03, 2.972e+03, 3.392e+03,\n",
              "         1.717e+03, 4.270e+02, 4.900e+01, 2.000e+00],\n",
              "        [1.000e+00, 1.800e+01, 2.520e+02, 1.260e+03, 2.999e+03, 3.434e+03,\n",
              "         1.627e+03, 3.690e+02, 3.600e+01, 4.000e+00],\n",
              "        [1.000e+00, 2.000e+01, 2.490e+02, 1.274e+03, 3.062e+03, 3.271e+03,\n",
              "         1.654e+03, 4.270e+02, 4.000e+01, 2.000e+00],\n",
              "        [1.000e+00, 2.400e+01, 2.860e+02, 1.278e+03, 3.001e+03, 3.295e+03,\n",
              "         1.692e+03, 3.730e+02, 4.600e+01, 4.000e+00],\n",
              "        [0.000e+00, 2.300e+01, 2.590e+02, 1.264e+03, 3.044e+03, 3.307e+03,\n",
              "         1.603e+03, 4.590e+02, 4.100e+01, 0.000e+00],\n",
              "        [1.000e+00, 2.400e+01, 2.230e+02, 1.263e+03, 2.997e+03, 3.331e+03,\n",
              "         1.745e+03, 3.640e+02, 5.100e+01, 1.000e+00],\n",
              "        [1.000e+00, 3.100e+01, 2.260e+02, 1.306e+03, 3.085e+03, 3.348e+03,\n",
              "         1.574e+03, 3.890e+02, 3.700e+01, 3.000e+00],\n",
              "        [1.000e+00, 2.200e+01, 2.580e+02, 1.273e+03, 3.041e+03, 3.303e+03,\n",
              "         1.676e+03, 3.920e+02, 3.100e+01, 3.000e+00],\n",
              "        [2.000e+00, 2.100e+01, 2.670e+02, 1.288e+03, 2.996e+03, 3.345e+03,\n",
              "         1.659e+03, 3.780e+02, 4.300e+01, 1.000e+00],\n",
              "        [0.000e+00, 3.300e+01, 2.450e+02, 1.182e+03, 3.049e+03, 3.394e+03,\n",
              "         1.656e+03, 3.940e+02, 4.400e+01, 3.000e+00],\n",
              "        [0.000e+00, 2.700e+01, 2.310e+02, 1.276e+03, 3.004e+03, 3.330e+03,\n",
              "         1.652e+03, 4.400e+02, 3.800e+01, 2.000e+00],\n",
              "        [2.000e+00, 2.000e+01, 2.500e+02, 1.323e+03, 3.013e+03, 3.293e+03,\n",
              "         1.700e+03, 3.650e+02, 3.200e+01, 2.000e+00],\n",
              "        [1.000e+00, 2.400e+01, 2.410e+02, 1.259e+03, 3.040e+03, 3.326e+03,\n",
              "         1.694e+03, 3.650e+02, 4.800e+01, 2.000e+00],\n",
              "        [2.000e+00, 1.700e+01, 2.620e+02, 1.310e+03, 2.956e+03, 3.341e+03,\n",
              "         1.674e+03, 3.960e+02, 4.100e+01, 1.000e+00],\n",
              "        [1.000e+00, 2.800e+01, 2.730e+02, 1.269e+03, 3.019e+03, 3.252e+03,\n",
              "         1.714e+03, 3.970e+02, 4.300e+01, 4.000e+00],\n",
              "        [0.000e+00, 3.000e+01, 2.600e+02, 1.298e+03, 2.959e+03, 3.321e+03,\n",
              "         1.695e+03, 4.010e+02, 3.500e+01, 1.000e+00],\n",
              "        [2.000e+00, 2.500e+01, 2.280e+02, 1.275e+03, 3.059e+03, 3.241e+03,\n",
              "         1.716e+03, 4.070e+02, 4.500e+01, 2.000e+00],\n",
              "        [0.000e+00, 1.900e+01, 2.790e+02, 1.263e+03, 3.017e+03, 3.287e+03,\n",
              "         1.686e+03, 4.010e+02, 4.600e+01, 2.000e+00],\n",
              "        [1.000e+00, 2.100e+01, 2.380e+02, 1.255e+03, 2.960e+03, 3.341e+03,\n",
              "         1.733e+03, 4.000e+02, 5.100e+01, 0.000e+00]]),\n",
              " array([-4.646951  , -3.7393866 , -2.8318222 , -1.9242575 , -1.016693  ,\n",
              "        -0.10912848,  0.79843605,  1.7060006 ,  2.6135652 ,  3.5211296 ,\n",
              "         4.4286942 ], dtype=float32),\n",
              " <a list of 20 Lists of Patches objects>)"
            ]
          },
          "metadata": {},
          "execution_count": 7
        },
        {
          "output_type": "display_data",
          "data": {
            "text/plain": [
              "<Figure size 2160x360 with 1 Axes>"
            ],
            "image/png": "[encoded data removed]"
          },
          "metadata": {
            "needs_background": "light"
          }
        }
      ]
    },
    {
      "cell_type": "code",
      "source": [
        "model = torch.nn.Sequential(layer[0], sigmoid, layer[1], sigmoid, layer[2],sigmoid, layer[3], sigmoid, layer[4], sigmoid)"
      ],
      "metadata": {
        "id": "jl1AfG7lsLQs"
      },
      "execution_count": 8,
      "outputs": []
    },
    {
      "cell_type": "code",
      "source": [
        "criterion = torch.nn.CrossEntropyLoss()\n",
        "optimizer = torch.optim.SGD(model.parameters(), lr=1)"
      ],
      "metadata": {
        "id": "N6FpVC1rscxw"
      },
      "execution_count": 9,
      "outputs": []
    },
    {
      "cell_type": "code",
      "source": [
        "for epoch in range(1000):\n",
        "  optimizer.zero_grad()\n",
        "  hypothesis = model(X).reshape(2, 1)\n",
        "\n",
        "  cost = criterion(input = hypothesis, target = Y)\n",
        "  cost.backward()\n",
        "  optimizer.step()"
      ],
      "metadata": {
        "colab": {
          "base_uri": "https://localhost:8080/",
          "height": 392
        },
        "id": "32iJRzJZ134I",
        "outputId": "4816b29e-043a-419a-c3de-af9c3e832934"
      },
      "execution_count": 11,
      "outputs": [
        {
          "output_type": "error",
          "ename": "IndexError",
          "evalue": "ignored",
          "traceback": [
            "\u001b[0;31m---------------------------------------------------------------------------\u001b[0m",
            "\u001b[0;31mIndexError\u001b[0m                                Traceback (most recent call last)",
            "\u001b[0;32m<ipython-input-11-00d16a6d1781>\u001b[0m in \u001b[0;36m<module>\u001b[0;34m()\u001b[0m\n\u001b[1;32m      3\u001b[0m   \u001b[0mhypothesis\u001b[0m \u001b[0;34m=\u001b[0m \u001b[0mmodel\u001b[0m\u001b[0;34m(\u001b[0m\u001b[0mX\u001b[0m\u001b[0;34m)\u001b[0m\u001b[0;34m.\u001b[0m\u001b[0mreshape\u001b[0m\u001b[0;34m(\u001b[0m\u001b[0;36m2\u001b[0m\u001b[0;34m,\u001b[0m \u001b[0;36m1\u001b[0m\u001b[0;34m)\u001b[0m\u001b[0;34m\u001b[0m\u001b[0;34m\u001b[0m\u001b[0m\n\u001b[1;32m      4\u001b[0m \u001b[0;34m\u001b[0m\u001b[0m\n\u001b[0;32m----> 5\u001b[0;31m   \u001b[0mcost\u001b[0m \u001b[0;34m=\u001b[0m \u001b[0mcriterion\u001b[0m\u001b[0;34m(\u001b[0m\u001b[0minput\u001b[0m \u001b[0;34m=\u001b[0m \u001b[0mhypothesis\u001b[0m\u001b[0;34m,\u001b[0m \u001b[0mtarget\u001b[0m \u001b[0;34m=\u001b[0m \u001b[0mY\u001b[0m\u001b[0;34m)\u001b[0m\u001b[0;34m\u001b[0m\u001b[0;34m\u001b[0m\u001b[0m\n\u001b[0m\u001b[1;32m      6\u001b[0m   \u001b[0mcost\u001b[0m\u001b[0;34m.\u001b[0m\u001b[0mbackward\u001b[0m\u001b[0;34m(\u001b[0m\u001b[0;34m)\u001b[0m\u001b[0;34m\u001b[0m\u001b[0;34m\u001b[0m\u001b[0m\n\u001b[1;32m      7\u001b[0m   \u001b[0moptimizer\u001b[0m\u001b[0;34m.\u001b[0m\u001b[0mstep\u001b[0m\u001b[0;34m(\u001b[0m\u001b[0;34m)\u001b[0m\u001b[0;34m\u001b[0m\u001b[0;34m\u001b[0m\u001b[0m\n",
            "\u001b[0;32m/usr/local/lib/python3.7/dist-packages/torch/nn/modules/module.py\u001b[0m in \u001b[0;36m_call_impl\u001b[0;34m(self, *input, **kwargs)\u001b[0m\n\u001b[1;32m   1100\u001b[0m         if not (self._backward_hooks or self._forward_hooks or self._forward_pre_hooks or _global_backward_hooks\n\u001b[1;32m   1101\u001b[0m                 or _global_forward_hooks or _global_forward_pre_hooks):\n\u001b[0;32m-> 1102\u001b[0;31m             \u001b[0;32mreturn\u001b[0m \u001b[0mforward_call\u001b[0m\u001b[0;34m(\u001b[0m\u001b[0;34m*\u001b[0m\u001b[0minput\u001b[0m\u001b[0;34m,\u001b[0m \u001b[0;34m**\u001b[0m\u001b[0mkwargs\u001b[0m\u001b[0;34m)\u001b[0m\u001b[0;34m\u001b[0m\u001b[0;34m\u001b[0m\u001b[0m\n\u001b[0m\u001b[1;32m   1103\u001b[0m         \u001b[0;31m# Do not call functions when jit is used\u001b[0m\u001b[0;34m\u001b[0m\u001b[0;34m\u001b[0m\u001b[0;34m\u001b[0m\u001b[0m\n\u001b[1;32m   1104\u001b[0m         \u001b[0mfull_backward_hooks\u001b[0m\u001b[0;34m,\u001b[0m \u001b[0mnon_full_backward_hooks\u001b[0m \u001b[0;34m=\u001b[0m \u001b[0;34m[\u001b[0m\u001b[0;34m]\u001b[0m\u001b[0;34m,\u001b[0m \u001b[0;34m[\u001b[0m\u001b[0;34m]\u001b[0m\u001b[0;34m\u001b[0m\u001b[0;34m\u001b[0m\u001b[0m\n",
            "\u001b[0;32m/usr/local/lib/python3.7/dist-packages/torch/nn/modules/loss.py\u001b[0m in \u001b[0;36mforward\u001b[0;34m(self, input, target)\u001b[0m\n\u001b[1;32m   1150\u001b[0m         return F.cross_entropy(input, target, weight=self.weight,\n\u001b[1;32m   1151\u001b[0m                                \u001b[0mignore_index\u001b[0m\u001b[0;34m=\u001b[0m\u001b[0mself\u001b[0m\u001b[0;34m.\u001b[0m\u001b[0mignore_index\u001b[0m\u001b[0;34m,\u001b[0m \u001b[0mreduction\u001b[0m\u001b[0;34m=\u001b[0m\u001b[0mself\u001b[0m\u001b[0;34m.\u001b[0m\u001b[0mreduction\u001b[0m\u001b[0;34m,\u001b[0m\u001b[0;34m\u001b[0m\u001b[0;34m\u001b[0m\u001b[0m\n\u001b[0;32m-> 1152\u001b[0;31m                                label_smoothing=self.label_smoothing)\n\u001b[0m\u001b[1;32m   1153\u001b[0m \u001b[0;34m\u001b[0m\u001b[0m\n\u001b[1;32m   1154\u001b[0m \u001b[0;34m\u001b[0m\u001b[0m\n",
            "\u001b[0;32m/usr/local/lib/python3.7/dist-packages/torch/nn/functional.py\u001b[0m in \u001b[0;36mcross_entropy\u001b[0;34m(input, target, weight, size_average, ignore_index, reduce, reduction, label_smoothing)\u001b[0m\n\u001b[1;32m   2844\u001b[0m     \u001b[0;32mif\u001b[0m \u001b[0msize_average\u001b[0m \u001b[0;32mis\u001b[0m \u001b[0;32mnot\u001b[0m \u001b[0;32mNone\u001b[0m \u001b[0;32mor\u001b[0m \u001b[0mreduce\u001b[0m \u001b[0;32mis\u001b[0m \u001b[0;32mnot\u001b[0m \u001b[0;32mNone\u001b[0m\u001b[0;34m:\u001b[0m\u001b[0;34m\u001b[0m\u001b[0;34m\u001b[0m\u001b[0m\n\u001b[1;32m   2845\u001b[0m         \u001b[0mreduction\u001b[0m \u001b[0;34m=\u001b[0m \u001b[0m_Reduction\u001b[0m\u001b[0;34m.\u001b[0m\u001b[0mlegacy_get_string\u001b[0m\u001b[0;34m(\u001b[0m\u001b[0msize_average\u001b[0m\u001b[0;34m,\u001b[0m \u001b[0mreduce\u001b[0m\u001b[0;34m)\u001b[0m\u001b[0;34m\u001b[0m\u001b[0;34m\u001b[0m\u001b[0m\n\u001b[0;32m-> 2846\u001b[0;31m     \u001b[0;32mreturn\u001b[0m \u001b[0mtorch\u001b[0m\u001b[0;34m.\u001b[0m\u001b[0m_C\u001b[0m\u001b[0;34m.\u001b[0m\u001b[0m_nn\u001b[0m\u001b[0;34m.\u001b[0m\u001b[0mcross_entropy_loss\u001b[0m\u001b[0;34m(\u001b[0m\u001b[0minput\u001b[0m\u001b[0;34m,\u001b[0m \u001b[0mtarget\u001b[0m\u001b[0;34m,\u001b[0m \u001b[0mweight\u001b[0m\u001b[0;34m,\u001b[0m \u001b[0m_Reduction\u001b[0m\u001b[0;34m.\u001b[0m\u001b[0mget_enum\u001b[0m\u001b[0;34m(\u001b[0m\u001b[0mreduction\u001b[0m\u001b[0;34m)\u001b[0m\u001b[0;34m,\u001b[0m \u001b[0mignore_index\u001b[0m\u001b[0;34m,\u001b[0m \u001b[0mlabel_smoothing\u001b[0m\u001b[0;34m)\u001b[0m\u001b[0;34m\u001b[0m\u001b[0;34m\u001b[0m\u001b[0m\n\u001b[0m\u001b[1;32m   2847\u001b[0m \u001b[0;34m\u001b[0m\u001b[0m\n\u001b[1;32m   2848\u001b[0m \u001b[0;34m\u001b[0m\u001b[0m\n",
            "\u001b[0;31mIndexError\u001b[0m: Target 1 is out of bounds."
          ]
        }
      ]
    },
    {
      "cell_type": "code",
      "source": [
        "hypothesis"
      ],
      "metadata": {
        "id": "gjXeIhm98S0A"
      },
      "execution_count": null,
      "outputs": []
    }
  ]
}