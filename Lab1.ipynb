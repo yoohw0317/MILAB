{
  "nbformat": 4,
  "nbformat_minor": 0,
  "metadata": {
    "colab": {
      "name": "모두의딥러닝lab1.ipynb",
      "provenance": [],
      "authorship_tag": "ABX9TyOVMQxkFvXnniHfW975Azr3",
      "include_colab_link": true
    },
    "kernelspec": {
      "name": "python3",
      "display_name": "Python 3"
    },
    "language_info": {
      "name": "python"
    }
  },
  "cells": [
    {
      "cell_type": "markdown",
      "metadata": {
        "id": "view-in-github",
        "colab_type": "text"
      },
      "source": [
        "<a href=\"https://colab.research.google.com/github/yoohw0317/MILAB/blob/main/week1/%EB%AA%A8%EB%91%90%EC%9D%98%EB%94%A5%EB%9F%AC%EB%8B%9Dlab1.ipynb\" target=\"_parent\"><img src=\"https://colab.research.google.com/assets/colab-badge.svg\" alt=\"Open In Colab\"/></a>"
      ]
    },
    {
      "cell_type": "markdown",
      "source": [
        "# **1D Array with Numpy**"
      ],
      "metadata": {
        "id": "rY0iun0BD0Ru"
      }
    },
    {
      "cell_type": "code",
      "execution_count": null,
      "metadata": {
        "id": "063V6yqRC0SR"
      },
      "outputs": [],
      "source": [
        "import numpy as np\n",
        "import torch"
      ]
    },
    {
      "cell_type": "markdown",
      "source": [
        "1d array 선언"
      ],
      "metadata": {
        "id": "Z6x9Fo2RMwG_"
      }
    },
    {
      "cell_type": "code",
      "source": [
        "t = np.array([0., 1., 2., 3., 4., 5., 6.])\n",
        "print(t)"
      ],
      "metadata": {
        "colab": {
          "base_uri": "https://localhost:8080/"
        },
        "id": "3aIatOLWEEY-",
        "outputId": "15ae32a8-28c1-4dfb-ae9b-7264b62a73d8"
      },
      "execution_count": null,
      "outputs": [
        {
          "output_type": "stream",
          "name": "stdout",
          "text": [
            "[0. 1. 2. 3. 4. 5. 6.]\n"
          ]
        }
      ]
    },
    {
      "cell_type": "markdown",
      "source": [
        "Rank: 몇 개의 차원으로 되어있는지. vector 인지 Matrix인지 Tensor인지를 구분\n",
        "\n",
        "Shape: 하나의 차원에서 몇 개의 원소가 들어가 있는지 알 수 있음.\n",
        "\n"
      ],
      "metadata": {
        "id": "C7kKBk2sM6Li"
      }
    },
    {
      "cell_type": "code",
      "source": [
        "print(\"Rank of t: \", t.ndim)\n",
        "print(\"shape of t:  \", t.shape)"
      ],
      "metadata": {
        "colab": {
          "base_uri": "https://localhost:8080/"
        },
        "id": "pkM1HSgMMjzD",
        "outputId": "3dbe89c1-8c71-4fe0-f6b2-9d33b7b90800"
      },
      "execution_count": null,
      "outputs": [
        {
          "output_type": "stream",
          "name": "stdout",
          "text": [
            "Rank of t:  1\n",
            "shape of t:   (7,)\n"
          ]
        }
      ]
    },
    {
      "cell_type": "markdown",
      "source": [
        "numpy indexing 하는 방법 (데이터 분석 프로그래밍할 때 배웠다)"
      ],
      "metadata": {
        "id": "MDwcyWlVOBc_"
      }
    },
    {
      "cell_type": "code",
      "source": [
        "print('t[0] t[1] t[-1] = ', t[0], t[1], t[-1])\n",
        "print('t[2:5] t[4:-1] = ', t[2:5], t[4:-1])\n",
        "print('t[:2] t[3:] = ', t[:2], t[3:])"
      ],
      "metadata": {
        "colab": {
          "base_uri": "https://localhost:8080/"
        },
        "id": "6LUqetdIOZx6",
        "outputId": "51f4dea1-124c-451b-904f-f96b2345bc9b"
      },
      "execution_count": null,
      "outputs": [
        {
          "output_type": "stream",
          "name": "stdout",
          "text": [
            "t[0] t[1] t[-1] =  0.0 1.0 6.0\n",
            "t[2:5] t[4:-1] =  [2. 3. 4.] [4. 5.]\n",
            "t[:2] t[3:] =  [0. 1.] [3. 4. 5. 6.]\n"
          ]
        }
      ]
    }
  ]
}
