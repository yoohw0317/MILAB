{
  "nbformat": 4,
  "nbformat_minor": 0,
  "metadata": {
    "colab": {
      "name": "Lab3.ipynb",
      "provenance": [],
      "collapsed_sections": [],
      "authorship_tag": "ABX9TyONLoPbaF5YUyDP9Dbdk/+s",
      "include_colab_link": true
    },
    "kernelspec": {
      "name": "python3",
      "display_name": "Python 3"
    },
    "language_info": {
      "name": "python"
    }
  },
  "cells": [
    {
      "cell_type": "markdown",
      "metadata": {
        "id": "view-in-github",
        "colab_type": "text"
      },
      "source": [
        "<a href=\"https://colab.research.google.com/github/yoohw0317/MILAB/blob/main/Lab3.ipynb\" target=\"_parent\"><img src=\"https://colab.research.google.com/assets/colab-badge.svg\" alt=\"Open In Colab\"/></a>"
      ]
    },
    {
      "cell_type": "code",
      "execution_count": 1,
      "metadata": {
        "id": "lkYYWRfO7zCn"
      },
      "outputs": [],
      "source": [
        "import torch\n",
        "import torch.optim as optim"
      ]
    },
    {
      "cell_type": "markdown",
      "source": [
        "데이터를 설정"
      ],
      "metadata": {
        "id": "BEVqJ0MA9mTG"
      }
    },
    {
      "cell_type": "code",
      "source": [
        "x_train = torch.FloatTensor([[1], [2], [3]])\n",
        "y_train = torch.FloatTensor([[1], [2], [3]])"
      ],
      "metadata": {
        "id": "BOpxwu--8u59"
      },
      "execution_count": 2,
      "outputs": []
    },
    {
      "cell_type": "markdown",
      "source": [
        "모델 초기화\n",
        "Epoch: 데이터로 학습한 횟수\n",
        "학습하면서 점점 W는 1에 수렴하게 됨, Cost는 줄어듬."
      ],
      "metadata": {
        "id": "uQi86IWf9sgf"
      }
    },
    {
      "cell_type": "code",
      "source": [
        "W = torch.zeros(1)\n",
        "lr = 0.1\n",
        "nb_epochs = 10"
      ],
      "metadata": {
        "id": "97kR5nK38k1t"
      },
      "execution_count": 11,
      "outputs": []
    },
    {
      "cell_type": "code",
      "source": [
        "for epoch in range(nb_epochs+1):\n",
        "  hypothesis = x_train * W\n",
        "  cost = torch.mean((hypothesis - y_train) ** 2)\n",
        "  gradient = torch.sum((W * x_train - y_train) * x_train)\n",
        "\n",
        "  print(f'Epoch {epoch}/{nb_epochs} W {W.item():.3f}, Cost: {cost.item():.6f}')\n",
        "\n",
        "  W -= lr * gradient"
      ],
      "metadata": {
        "colab": {
          "base_uri": "https://localhost:8080/"
        },
        "id": "YTL9aDIE-loi",
        "outputId": "92709a1d-ac30-4575-d69f-7ed472cb3a53"
      },
      "execution_count": 8,
      "outputs": [
        {
          "output_type": "stream",
          "name": "stdout",
          "text": [
            "Epoch 0/10 W 0.000, Cost: 4.666667\n",
            "Epoch 1/10 W 1.400, Cost: 0.746666\n",
            "Epoch 2/10 W 0.840, Cost: 0.119467\n",
            "Epoch 3/10 W 1.064, Cost: 0.019115\n",
            "Epoch 4/10 W 0.974, Cost: 0.003058\n",
            "Epoch 5/10 W 1.010, Cost: 0.000489\n",
            "Epoch 6/10 W 0.996, Cost: 0.000078\n",
            "Epoch 7/10 W 1.002, Cost: 0.000013\n",
            "Epoch 8/10 W 0.999, Cost: 0.000002\n",
            "Epoch 9/10 W 1.000, Cost: 0.000000\n",
            "Epoch 10/10 W 1.000, Cost: 0.000000\n"
          ]
        }
      ]
    },
    {
      "cell_type": "markdown",
      "source": [
        "torch.optim 으로도 gradient descent 를 할 수 있음.\n",
        "\n",
        "*   시작할 때 Optimizer 정의\n",
        "*   optimizer.zero_grad() 로 gradient를 0으로 초기화\n",
        "*   cost.backward()로 gradient 계산\n",
        "*   optimizer.step()으로 gradient descent\n",
        "\n"
      ],
      "metadata": {
        "id": "rPrjp4jfBis9"
      }
    },
    {
      "cell_type": "code",
      "source": [
        "W = torch.zeros(1, requires_grad = True)\n",
        "optimizer = optim.SGD([W], lr=0.15)\n",
        "nb_epochs = 10\n",
        "\n",
        "for epoch in range(nb_epochs + 1):\n",
        "  hypothesis = x_train * W\n",
        "  cost = torch.mean((hypothesis - y_train) ** 2)\n",
        "\n",
        "  print(f'Epoch {epoch}/{nb_epochs} W {W.item():.3f}, Cost: {cost.item():.6f}')\n",
        "\n",
        "  optimizer.zero_grad()\n",
        "  cost.backward()\n",
        "  optimizer.step()"
      ],
      "metadata": {
        "colab": {
          "base_uri": "https://localhost:8080/"
        },
        "id": "mIf5rlxXCygX",
        "outputId": "3930558a-ffaf-4c05-a096-cbddc3e36f8f"
      },
      "execution_count": 4,
      "outputs": [
        {
          "output_type": "stream",
          "name": "stdout",
          "text": [
            "Epoch 0/10 W 0.000, Cost: 4.666667\n",
            "Epoch 1/10 W 1.400, Cost: 0.746667\n",
            "Epoch 2/10 W 0.840, Cost: 0.119467\n",
            "Epoch 3/10 W 1.064, Cost: 0.019115\n",
            "Epoch 4/10 W 0.974, Cost: 0.003058\n",
            "Epoch 5/10 W 1.010, Cost: 0.000489\n",
            "Epoch 6/10 W 0.996, Cost: 0.000078\n",
            "Epoch 7/10 W 1.002, Cost: 0.000013\n",
            "Epoch 8/10 W 0.999, Cost: 0.000002\n",
            "Epoch 9/10 W 1.000, Cost: 0.000000\n",
            "Epoch 10/10 W 1.000, Cost: 0.000000\n"
          ]
        }
      ]
    }
  ]
}