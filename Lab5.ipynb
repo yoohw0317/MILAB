{
  "cells": [
    {
      "cell_type": "markdown",
      "metadata": {
        "id": "view-in-github",
        "colab_type": "text"
      },
      "source": [
        "<a href=\"https://colab.research.google.com/github/yoohw0317/MILAB/blob/main/Lab5.ipynb\" target=\"_parent\"><img src=\"https://colab.research.google.com/assets/colab-badge.svg\" alt=\"Open In Colab\"/></a>"
      ]
    },
    {
      "cell_type": "markdown",
      "id": "3d1ecc5c-e40f-47bb-801e-584224ecec41",
      "metadata": {
        "id": "3d1ecc5c-e40f-47bb-801e-584224ecec41"
      },
      "source": [
        "# Logistic Regression"
      ]
    },
    {
      "cell_type": "code",
      "execution_count": 1,
      "id": "db3c26ee-4c63-4586-a594-c0f6a1c74540",
      "metadata": {
        "id": "db3c26ee-4c63-4586-a594-c0f6a1c74540"
      },
      "outputs": [],
      "source": [
        "import torch\n",
        "import torch.nn as nn\n",
        "import torch.nn.functional as F\n",
        "import torch.optim as optim"
      ]
    },
    {
      "cell_type": "code",
      "execution_count": 2,
      "id": "7e5efd1c-0163-4d84-8c46-78345b2bc2e8",
      "metadata": {
        "id": "7e5efd1c-0163-4d84-8c46-78345b2bc2e8",
        "outputId": "06a1f141-3a01-4bb3-cfca-7c12e6f32cb0",
        "colab": {
          "base_uri": "https://localhost:8080/"
        }
      },
      "outputs": [
        {
          "output_type": "execute_result",
          "data": {
            "text/plain": [
              "<torch._C.Generator at 0x7f8498701090>"
            ]
          },
          "metadata": {},
          "execution_count": 2
        }
      ],
      "source": [
        "# 통일성을 위해 시드 설정 \n",
        "torch.manual_seed(1)"
      ]
    },
    {
      "cell_type": "code",
      "execution_count": 3,
      "id": "681d5f88-a197-4b3c-b15b-3399a932424a",
      "metadata": {
        "id": "681d5f88-a197-4b3c-b15b-3399a932424a"
      },
      "outputs": [],
      "source": [
        "x_data = [[1, 2], [2, 3], [3, 1], [4, 3], [5, 3], [6, 2]]\n",
        "y_data = [[0], [0], [0], [1], [1], [1]]"
      ]
    },
    {
      "cell_type": "code",
      "execution_count": 4,
      "id": "3c2a33fe-5d92-499f-a1c0-edffe1fc6672",
      "metadata": {
        "id": "3c2a33fe-5d92-499f-a1c0-edffe1fc6672"
      },
      "outputs": [],
      "source": [
        "x_train = torch.FloatTensor(x_data)\n",
        "y_train = torch.FloatTensor(y_data)"
      ]
    },
    {
      "cell_type": "code",
      "execution_count": 5,
      "id": "4b5040ff-d444-4584-88c0-e5007fa76e0e",
      "metadata": {
        "id": "4b5040ff-d444-4584-88c0-e5007fa76e0e",
        "outputId": "5f733b6e-6fc7-4c9a-8dcb-717225435cc6",
        "colab": {
          "base_uri": "https://localhost:8080/"
        }
      },
      "outputs": [
        {
          "output_type": "stream",
          "name": "stdout",
          "text": [
            "torch.Size([6, 2])\n",
            "torch.Size([6, 1])\n"
          ]
        }
      ],
      "source": [
        "print(x_train.shape)\n",
        "print(y_train.shape)"
      ]
    },
    {
      "cell_type": "code",
      "execution_count": 6,
      "id": "1d69fe1b-050f-4731-becf-48872b0703dc",
      "metadata": {
        "id": "1d69fe1b-050f-4731-becf-48872b0703dc",
        "outputId": "cb76e28b-c976-41dd-8e68-3765574cec9d",
        "colab": {
          "base_uri": "https://localhost:8080/"
        }
      },
      "outputs": [
        {
          "output_type": "stream",
          "name": "stdout",
          "text": [
            "e^1 equals:  tensor([2.7183])\n"
          ]
        }
      ],
      "source": [
        "print('e^1 equals: ', torch.exp(torch.FloatTensor([1])))"
      ]
    },
    {
      "cell_type": "code",
      "execution_count": 7,
      "id": "27effcc2-d03d-4666-8809-47c3ddcc9831",
      "metadata": {
        "id": "27effcc2-d03d-4666-8809-47c3ddcc9831"
      },
      "outputs": [],
      "source": [
        "W = torch.zeros((2, 1), requires_grad=True)\n",
        "b = torch.zeros(1, requires_grad=True)"
      ]
    },
    {
      "cell_type": "markdown",
      "id": "8588062b-8345-414d-bcdb-74dc60c39467",
      "metadata": {
        "id": "8588062b-8345-414d-bcdb-74dc60c39467"
      },
      "source": [
        "hypothesis 를 나타내는 것은 sigmoid 함수"
      ]
    },
    {
      "cell_type": "code",
      "execution_count": 8,
      "id": "a65be0e9-d988-4e82-a00b-38b7c44299e6",
      "metadata": {
        "id": "a65be0e9-d988-4e82-a00b-38b7c44299e6"
      },
      "outputs": [],
      "source": [
        "hypothesis = 1 / (1+torch.exp(-(x_train.matmul(W) +  b))) # torch.matmul(x, w)로도 쓸 수 있음"
      ]
    },
    {
      "cell_type": "code",
      "execution_count": 9,
      "id": "eec5b240-b706-4dc6-bbf8-923202d30814",
      "metadata": {
        "id": "eec5b240-b706-4dc6-bbf8-923202d30814",
        "outputId": "bce38ce1-5b5a-4235-e7ac-9cece2358c2f",
        "colab": {
          "base_uri": "https://localhost:8080/"
        }
      },
      "outputs": [
        {
          "output_type": "stream",
          "name": "stdout",
          "text": [
            "tensor([[0.5000],\n",
            "        [0.5000],\n",
            "        [0.5000],\n",
            "        [0.5000],\n",
            "        [0.5000],\n",
            "        [0.5000]], grad_fn=<MulBackward0>)\n",
            "torch.Size([6, 1])\n"
          ]
        }
      ],
      "source": [
        "print(hypothesis)\n",
        "print(hypothesis.shape)"
      ]
    },
    {
      "cell_type": "code",
      "execution_count": 10,
      "id": "2ea7765b-e977-4d31-aaa3-da7b51ec6cbe",
      "metadata": {
        "id": "2ea7765b-e977-4d31-aaa3-da7b51ec6cbe",
        "outputId": "17e3ddc7-3684-42cf-f965-405707bf7984",
        "colab": {
          "base_uri": "https://localhost:8080/"
        }
      },
      "outputs": [
        {
          "output_type": "stream",
          "name": "stdout",
          "text": [
            "1/(1+e^{-1}) equals:  tensor([0.7311])\n"
          ]
        }
      ],
      "source": [
        "print ('1/(1+e^{-1}) equals: ', torch.sigmoid(torch.FloatTensor([1])))"
      ]
    },
    {
      "cell_type": "code",
      "execution_count": 11,
      "id": "a78176b2-5e0c-43b9-a34d-d99c9c447bc9",
      "metadata": {
        "id": "a78176b2-5e0c-43b9-a34d-d99c9c447bc9"
      },
      "outputs": [],
      "source": [
        "hypothesis = torch.sigmoid(x_train.matmul(W) + b)"
      ]
    },
    {
      "cell_type": "code",
      "execution_count": 12,
      "id": "a228f52a-11c0-4677-9823-f946aab0702f",
      "metadata": {
        "id": "a228f52a-11c0-4677-9823-f946aab0702f",
        "outputId": "f52b83d4-15ca-4425-ef5d-2ce71d7663b2",
        "colab": {
          "base_uri": "https://localhost:8080/"
        }
      },
      "outputs": [
        {
          "output_type": "stream",
          "name": "stdout",
          "text": [
            "tensor([[0.5000],\n",
            "        [0.5000],\n",
            "        [0.5000],\n",
            "        [0.5000],\n",
            "        [0.5000],\n",
            "        [0.5000]], grad_fn=<SigmoidBackward0>)\n",
            "torch.Size([6, 1])\n"
          ]
        }
      ],
      "source": [
        "print(hypothesis)\n",
        "print(hypothesis.shape)"
      ]
    },
    {
      "cell_type": "markdown",
      "id": "baaf64cd-f5c6-4ca8-a330-e394b39c94a7",
      "metadata": {
        "id": "baaf64cd-f5c6-4ca8-a330-e394b39c94a7"
      },
      "source": [
        "For one element, the loss can be computed as follows:"
      ]
    },
    {
      "cell_type": "code",
      "execution_count": 13,
      "id": "37a51f9b-f3da-402f-9fa5-481f78997a64",
      "metadata": {
        "id": "37a51f9b-f3da-402f-9fa5-481f78997a64",
        "outputId": "1aa6d830-39dc-4b2d-c52e-1162fbc7b93b",
        "colab": {
          "base_uri": "https://localhost:8080/"
        }
      },
      "outputs": [
        {
          "output_type": "execute_result",
          "data": {
            "text/plain": [
              "tensor([0.6931], grad_fn=<NegBackward0>)"
            ]
          },
          "metadata": {},
          "execution_count": 13
        }
      ],
      "source": [
        "- (y_train[0] * torch.log(hypothesis[0]) +  (1 - y_train[0]) * torch.log(1-hypothesis[0]))"
      ]
    },
    {
      "cell_type": "markdown",
      "id": "8ad40a5a-e483-4e2a-b49a-6d9deddadeb7",
      "metadata": {
        "id": "8ad40a5a-e483-4e2a-b49a-6d9deddadeb7"
      },
      "source": [
        "To compute the losses for the entire batch, we can simply input the entire vector"
      ]
    },
    {
      "cell_type": "code",
      "execution_count": 14,
      "id": "053720ea-81b4-402c-811e-c24081ecc310",
      "metadata": {
        "id": "053720ea-81b4-402c-811e-c24081ecc310",
        "outputId": "b50e3704-f5f3-463d-99f6-95218e86346e",
        "colab": {
          "base_uri": "https://localhost:8080/"
        }
      },
      "outputs": [
        {
          "output_type": "stream",
          "name": "stdout",
          "text": [
            "tensor([0.6931], grad_fn=<NegBackward0>)\n"
          ]
        }
      ],
      "source": [
        "losses = - (y_train[0] * torch.log(hypothesis[0]) +  (1 - y_train[0]) * torch.log(1-hypothesis[0]))\n",
        "print(losses)"
      ]
    },
    {
      "cell_type": "markdown",
      "id": "7a51073a-3577-4743-a4b9-3e7c76dc999d",
      "metadata": {
        "id": "7a51073a-3577-4743-a4b9-3e7c76dc999d"
      },
      "source": [
        "Then, we just .mean() to take the mean of these individual losses."
      ]
    },
    {
      "cell_type": "code",
      "execution_count": 15,
      "id": "4b922c4a-ec01-4650-9b15-ab3905e2821f",
      "metadata": {
        "id": "4b922c4a-ec01-4650-9b15-ab3905e2821f",
        "outputId": "88199b34-941c-4b29-98bf-1c47d5f7fe8e",
        "colab": {
          "base_uri": "https://localhost:8080/"
        }
      },
      "outputs": [
        {
          "output_type": "stream",
          "name": "stdout",
          "text": [
            "tensor(0.6931, grad_fn=<MeanBackward0>)\n"
          ]
        }
      ],
      "source": [
        "cost = losses.mean()\n",
        "print(cost)"
      ]
    },
    {
      "cell_type": "code",
      "execution_count": 16,
      "id": "922509c7-1092-48dc-aa9f-585087eafbfd",
      "metadata": {
        "id": "922509c7-1092-48dc-aa9f-585087eafbfd",
        "outputId": "50f87b44-06dc-4e05-b43d-8d2bb574ad03",
        "colab": {
          "base_uri": "https://localhost:8080/"
        }
      },
      "outputs": [
        {
          "output_type": "execute_result",
          "data": {
            "text/plain": [
              "tensor(0.6931, grad_fn=<BinaryCrossEntropyBackward0>)"
            ]
          },
          "metadata": {},
          "execution_count": 16
        }
      ],
      "source": [
        "F.binary_cross_entropy(hypothesis, y_train)"
      ]
    },
    {
      "cell_type": "code",
      "execution_count": 17,
      "id": "022ada07-ded6-47bc-a076-14e886fec449",
      "metadata": {
        "id": "022ada07-ded6-47bc-a076-14e886fec449",
        "outputId": "c815376b-8756-4594-e1ac-8b26987b455e",
        "colab": {
          "base_uri": "https://localhost:8080/"
        }
      },
      "outputs": [
        {
          "output_type": "stream",
          "name": "stdout",
          "text": [
            "Epoch    0/1000 Cost: 0.693147\n",
            "Epoch  100/1000 Cost: 0.134722\n",
            "Epoch  200/1000 Cost: 0.080643\n",
            "Epoch  300/1000 Cost: 0.057900\n",
            "Epoch  400/1000 Cost: 0.045300\n",
            "Epoch  500/1000 Cost: 0.037261\n",
            "Epoch  600/1000 Cost: 0.031672\n",
            "Epoch  700/1000 Cost: 0.027556\n",
            "Epoch  800/1000 Cost: 0.024394\n",
            "Epoch  900/1000 Cost: 0.021888\n",
            "Epoch 1000/1000 Cost: 0.019852\n"
          ]
        }
      ],
      "source": [
        "W = torch.zeros((2, 1), requires_grad=True)\n",
        "b = torch.zeros(1, requires_grad=True)\n",
        "\n",
        "optimizer = optim.SGD([W, b], lr=1)\n",
        "nb_epochs= 1000\n",
        "for epoch in range(nb_epochs + 1):\n",
        "    hypothesis = torch.sigmoid(x_train.matmul(W) + b)\n",
        "    cost = F.binary_cross_entropy(hypothesis , y_train)\n",
        "    \n",
        "    optimizer.zero_grad()\n",
        "    cost.backward()\n",
        "    optimizer.step()\n",
        "    \n",
        "    if epoch % 100 == 0:\n",
        "        print(f'Epoch {epoch:4d}/{nb_epochs} Cost: {cost.item():.6f}')"
      ]
    },
    {
      "cell_type": "markdown",
      "id": "89d46aa9-bbc4-4fcf-9667-389c4f3f818e",
      "metadata": {
        "id": "89d46aa9-bbc4-4fcf-9667-389c4f3f818e"
      },
      "source": [
        "# Evaluation\n",
        "\n",
        "After we finish training the model, we want to check how well our model fits the training set."
      ]
    },
    {
      "cell_type": "code",
      "execution_count": 18,
      "id": "eb8713e4-e09d-44a2-bf82-2c041a9c9617",
      "metadata": {
        "id": "eb8713e4-e09d-44a2-bf82-2c041a9c9617",
        "outputId": "1a42ac70-1e80-40b5-8230-5cf6f34fe4aa",
        "colab": {
          "base_uri": "https://localhost:8080/"
        }
      },
      "outputs": [
        {
          "output_type": "stream",
          "name": "stdout",
          "text": [
            "tensor([[    0.0003],\n",
            "        [    0.0316],\n",
            "        [    0.0390],\n",
            "        [    0.9562],\n",
            "        [    0.9982],\n",
            "        [    0.9997]], grad_fn=<SigmoidBackward0>)\n"
          ]
        }
      ],
      "source": [
        "hypothesis = torch.sigmoid(x_train.matmul(W) + b)\n",
        "torch.set_printoptions(sci_mode = False, precision = 4)\n",
        "print(hypothesis)"
      ]
    },
    {
      "cell_type": "code",
      "execution_count": 19,
      "id": "785864b3-bfbe-4c14-a927-b84a22235167",
      "metadata": {
        "id": "785864b3-bfbe-4c14-a927-b84a22235167",
        "outputId": "f0c51f3e-9b7e-400f-9c0c-4247bb5d769f",
        "colab": {
          "base_uri": "https://localhost:8080/"
        }
      },
      "outputs": [
        {
          "output_type": "stream",
          "name": "stdout",
          "text": [
            "tensor([[0.],\n",
            "        [0.],\n",
            "        [0.],\n",
            "        [1.],\n",
            "        [1.],\n",
            "        [1.]])\n"
          ]
        }
      ],
      "source": [
        "prediction = (hypothesis >= torch.FloatTensor([0.5])).float()\n",
        "print(prediction)"
      ]
    },
    {
      "cell_type": "code",
      "execution_count": 20,
      "id": "82419184-7052-4717-8a55-73b500796ba4",
      "metadata": {
        "id": "82419184-7052-4717-8a55-73b500796ba4",
        "outputId": "ac72949d-c712-42a5-8b34-61b1be878974",
        "colab": {
          "base_uri": "https://localhost:8080/"
        }
      },
      "outputs": [
        {
          "output_type": "stream",
          "name": "stdout",
          "text": [
            "tensor([[0.],\n",
            "        [0.],\n",
            "        [0.],\n",
            "        [1.],\n",
            "        [1.],\n",
            "        [1.]])\n",
            "tensor([[0.],\n",
            "        [0.],\n",
            "        [0.],\n",
            "        [1.],\n",
            "        [1.],\n",
            "        [1.]])\n"
          ]
        }
      ],
      "source": [
        "print(prediction)\n",
        "print(y_train)"
      ]
    },
    {
      "cell_type": "code",
      "execution_count": 21,
      "id": "effabe95-1e17-412a-937a-933c61605aab",
      "metadata": {
        "id": "effabe95-1e17-412a-937a-933c61605aab",
        "outputId": "63ff9c5b-d7f5-4a49-de63-e5f8f46aacc9",
        "colab": {
          "base_uri": "https://localhost:8080/"
        }
      },
      "outputs": [
        {
          "output_type": "stream",
          "name": "stdout",
          "text": [
            "tensor([[True],\n",
            "        [True],\n",
            "        [True],\n",
            "        [True],\n",
            "        [True],\n",
            "        [True]])\n"
          ]
        }
      ],
      "source": [
        "correct_prediction = prediction == y_train\n",
        "print (correct_prediction)"
      ]
    },
    {
      "cell_type": "markdown",
      "id": "7714261e-51d8-48dd-8f30-2143ff96e07a",
      "metadata": {
        "id": "7714261e-51d8-48dd-8f30-2143ff96e07a"
      },
      "source": [
        "Higher Implementation with Class"
      ]
    },
    {
      "cell_type": "code",
      "execution_count": 22,
      "id": "d6900676-061a-45f4-add6-d11dd36342c2",
      "metadata": {
        "id": "d6900676-061a-45f4-add6-d11dd36342c2"
      },
      "outputs": [],
      "source": [
        "class BinaryClassifier(nn.Module):\n",
        "    def __init__ (self):\n",
        "        super().__init__()\n",
        "        self.linear = nn.Linear(2, 1)\n",
        "        self.sigmoid = nn.Sigmoid()\n",
        "    def forward(self, x):\n",
        "        return self.sigmoid(self.linear(x))"
      ]
    },
    {
      "cell_type": "code",
      "execution_count": 23,
      "id": "bf064e8d-0edc-4739-8ef3-19aca1e2d8cb",
      "metadata": {
        "id": "bf064e8d-0edc-4739-8ef3-19aca1e2d8cb"
      },
      "outputs": [],
      "source": [
        "model = BinaryClassifier()"
      ]
    },
    {
      "cell_type": "code",
      "execution_count": 24,
      "id": "a369e511-d6c7-4496-956b-555b27a6514f",
      "metadata": {
        "id": "a369e511-d6c7-4496-956b-555b27a6514f",
        "outputId": "439ab09f-aadc-4a80-ad27-e26832e41c27",
        "colab": {
          "base_uri": "https://localhost:8080/"
        }
      },
      "outputs": [
        {
          "output_type": "stream",
          "name": "stdout",
          "text": [
            "Epoch    0/100 Cost: 0.539713, Accuracy  83.33\n",
            "Epoch   10/100 Cost: 0.614853, Accuracy  66.67\n",
            "Epoch   20/100 Cost: 0.441875, Accuracy  66.67\n",
            "Epoch   30/100 Cost: 0.373145, Accuracy  83.33\n",
            "Epoch   40/100 Cost: 0.316358, Accuracy  83.33\n",
            "Epoch   50/100 Cost: 0.266094, Accuracy  83.33\n",
            "Epoch   60/100 Cost: 0.220498, Accuracy  100.00\n",
            "Epoch   70/100 Cost: 0.182095, Accuracy  100.00\n",
            "Epoch   80/100 Cost: 0.157299, Accuracy  100.00\n",
            "Epoch   90/100 Cost: 0.144091, Accuracy  100.00\n",
            "Epoch  100/100 Cost: 0.134272, Accuracy  100.00\n"
          ]
        }
      ],
      "source": [
        "optimizer = optim.SGD(model.parameters(), lr = 1)\n",
        "nb_epochs = 100\n",
        "for epoch in range (nb_epochs + 1):\n",
        "    hypothesis = model(x_train)\n",
        "    cost = F.binary_cross_entropy(hypothesis, y_train)\n",
        "    \n",
        "    optimizer.zero_grad()\n",
        "    cost.backward()\n",
        "    optimizer.step()\n",
        "    \n",
        "    if epoch % 10 == 0:\n",
        "        prediction = hypothesis >= torch.FloatTensor([0.5])\n",
        "        correct_prediction = prediction.float() == y_train\n",
        "        accuracy = correct_prediction.sum().item() / len (correct_prediction)\n",
        "        print(f'Epoch {epoch:4d}/{nb_epochs} Cost: {cost.item():.6f}, Accuracy {accuracy * 100: 2.2f}')"
      ]
    },
    {
      "cell_type": "code",
      "execution_count": 24,
      "id": "0efb850f-420c-47cd-86b5-b1545130edbd",
      "metadata": {
        "id": "0efb850f-420c-47cd-86b5-b1545130edbd"
      },
      "outputs": [],
      "source": [
        ""
      ]
    }
  ],
  "metadata": {
    "kernelspec": {
      "display_name": "Python 3",
      "language": "python",
      "name": "python3"
    },
    "language_info": {
      "codemirror_mode": {
        "name": "ipython",
        "version": 3
      },
      "file_extension": ".py",
      "mimetype": "text/x-python",
      "name": "python",
      "nbconvert_exporter": "python",
      "pygments_lexer": "ipython3",
      "version": "3.8.8"
    },
    "colab": {
      "name": "Lab5.ipynb",
      "provenance": [],
      "include_colab_link": true
    }
  },
  "nbformat": 4,
  "nbformat_minor": 5
}