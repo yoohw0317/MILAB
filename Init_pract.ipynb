{
  "nbformat": 4,
  "nbformat_minor": 0,
  "metadata": {
    "colab": {
      "name": "Init_pract.ipynb",
      "provenance": [],
      "authorship_tag": "ABX9TyPPG8GA7B79hngYdzgOmovC",
      "include_colab_link": true
    },
    "kernelspec": {
      "name": "python3",
      "display_name": "Python 3"
    },
    "language_info": {
      "name": "python"
    }
  },
  "cells": [
    {
      "cell_type": "markdown",
      "metadata": {
        "id": "view-in-github",
        "colab_type": "text"
      },
      "source": [
        "<a href=\"https://colab.research.google.com/github/yoohw0317/MILAB/blob/main/Init_pract.ipynb\" target=\"_parent\"><img src=\"https://colab.research.google.com/assets/colab-badge.svg\" alt=\"Open In Colab\"/></a>"
      ]
    },
    {
      "cell_type": "code",
      "execution_count": 1,
      "metadata": {
        "id": "Yi3bbcKgQZ25"
      },
      "outputs": [],
      "source": [
        "import numpy as np\n",
        "import matplotlib.pyplot as plt"
      ]
    },
    {
      "cell_type": "code",
      "source": [
        "def sigmoid(x):\n",
        "    return 1 / (1 + np.exp(-x))\n",
        "\n",
        "# ReLU\n",
        "def ReLU(x):\n",
        "    return np.maximum(0, x)\n",
        "\n",
        "# tanh\n",
        "def tanh(x):\n",
        "    return np.tanh(x)\n",
        "\n",
        "def weight_init(method=None):\n",
        "    '''가중치 초기화 함수\n",
        "    \n",
        "    Args:\n",
        "        - method: 가중치 초기화 방법(large, small, xavier, relu)\n",
        "    Returns:\n",
        "        - np.array형태의 가중치 초기값\n",
        "    '''\n",
        "    w = 0\n",
        "    if method == 'large':\n",
        "        w = np.random.randn(node_num, node_num) * 1\n",
        "    elif method == 'small':\n",
        "        w = np.random.randn(node_num, node_num) * 0.01\n",
        "    elif method == 'xavier':\n",
        "        w = np.random.randn(node_num, node_num) * np.sqrt(1.0 / node_num)  # Xavier init\n",
        "    elif method == 'he':\n",
        "        w = np.random.randn(node_num, node_num) * np.sqrt(2.0 / node_num)  # He init\n",
        "    \n",
        "    return w"
      ],
      "metadata": {
        "id": "ttd86LB0Qg-N"
      },
      "execution_count": 2,
      "outputs": []
    },
    {
      "cell_type": "code",
      "source": [
        "input_data = np.random.randn(1000, 100)  # 1000개의 데이터\n",
        "node_num = 100  # 각 은닉층의 노드(뉴런) 수\n",
        "hidden_layer_size = 5  # 은닉층이 5개\n",
        "activations = {}  # 이곳에 활성화 결과를 저장\n",
        "\n",
        "x = input_data\n",
        "\n",
        "for i in range(hidden_layer_size):\n",
        "    if i != 0:\n",
        "        x = activations[i-1]\n",
        "\n",
        "    w = weight_init('small')\n",
        "    a = np.dot(x, w)\n",
        "\n",
        "    #z = sigmoid(a)\n",
        "    #z = ReLU(a)\n",
        "    z = tanh(a)\n",
        "\n",
        "    activations[i] = z\n",
        "\n",
        "# 히스토그램 그리기\n",
        "for i, a in activations.items():\n",
        "    plt.subplot(1, len(activations), i+1)\n",
        "    plt.title(str(i+1) + \"-layer\")\n",
        "    if i != 0: plt.yticks([], [])\n",
        "#     plt.xlim(0.1, 1)\n",
        "    plt.ylim(0, 7000)\n",
        "    plt.hist(a.flatten(), 30, range=(-1,1))\n",
        "plt.show()"
      ],
      "metadata": {
        "colab": {
          "base_uri": "https://localhost:8080/",
          "height": 281
        },
        "id": "MhqWzkzvR4ni",
        "outputId": "ad8dd768-d489-469a-a863-a66cc04d30d5"
      },
      "execution_count": 24,
      "outputs": [
        {
          "output_type": "display_data",
          "data": {
            "text/plain": [
              "<Figure size 432x288 with 5 Axes>"
            ],
            "image/png": "[encoded data removed]"
          },
          "metadata": {
            "needs_background": "light"
          }
        }
      ]
    },
    {
      "cell_type": "code",
      "source": [
        "for i in range(hidden_layer_size):\n",
        "    if i != 0:\n",
        "        x = activations[i-1]\n",
        "\n",
        "    w = weight_init('large')\n",
        "    a = np.dot(x, w)\n",
        "\n",
        "    z = sigmoid(a)\n",
        "    # z = ReLU(a)\n",
        "    # z = tanh(a)\n",
        "\n",
        "    activations[i] = z\n",
        "plt.figure(figsize=(15,5))\n",
        "# 히스토그램 그리기\n",
        "for i, a in activations.items():\n",
        "    plt.subplot(1, len(activations), i+1)\n",
        "    plt.title(str(i+1) + \"-layer\")\n",
        "    if i != 0: plt.yticks([], [])\n",
        "#     plt.xlim(0.1, 1)\n",
        "    plt.ylim(0, 7000)\n",
        "    plt.hist(a.flatten(), 30, range=(0,1))\n",
        "plt.show()"
      ],
      "metadata": {
        "colab": {
          "base_uri": "https://localhost:8080/",
          "height": 336
        },
        "id": "6LFr8zxiVmS0",
        "outputId": "1ce65266-c81a-42cb-93a4-5057a866f488"
      },
      "execution_count": 9,
      "outputs": [
        {
          "output_type": "display_data",
          "data": {
            "text/plain": [
              "<Figure size 1080x360 with 10 Axes>"
            ],
            "image/png": "[encoded data removed]"
          },
          "metadata": {
            "needs_background": "light"
          }
        }
      ]
    },
    {
      "cell_type": "code",
      "source": [
        "input_data = np.random.randn(1000, 100)  # 1000개의 데이터\n",
        "node_num = 100  # 각 은닉층의 노드(뉴런) 수\n",
        "hidden_layer_size = 10  # 은닉층이 5개\n",
        "activations = {}  # 이곳에 활성화 결과를 저장\n",
        "\n",
        "x = input_data\n",
        "\n",
        "for i in range(hidden_layer_size):\n",
        "    if i != 0:\n",
        "        x = activations[i-1]\n",
        "\n",
        "    w = weight_init('xavier')\n",
        "    a = np.dot(x, w)\n",
        "\n",
        "    # z = sigmoid(a)\n",
        "    z = ReLU(a)\n",
        "    # z = tanh(a)\n",
        "\n",
        "    activations[i] = z\n",
        "\n",
        "# 히스토그램 그리기\n",
        "plt.figure(figsize=(15,5))\n",
        "for i, a in activations.items():\n",
        "    plt.subplot(1, len(activations), i+1)\n",
        "    plt.title(str(i+1) + \"-layer\")\n",
        "    if i != 0: plt.yticks([], [])\n",
        "#     plt.xlim(0.1, 1)\n",
        "    plt.ylim(0, 7000)\n",
        "    plt.hist(a.flatten(), 30, range=(-0,1))\n",
        "plt.show()"
      ],
      "metadata": {
        "colab": {
          "base_uri": "https://localhost:8080/",
          "height": 336
        },
        "id": "r8FotuIfRwTg",
        "outputId": "fb308d10-ce85-4184-bebd-5c7bc443dc18"
      },
      "execution_count": 7,
      "outputs": [
        {
          "output_type": "display_data",
          "data": {
            "text/plain": [
              "<Figure size 1080x360 with 10 Axes>"
            ],
            "image/png": "[encoded data removed]"
          },
          "metadata": {
            "needs_background": "light"
          }
        }
      ]
    },
    {
      "cell_type": "code",
      "source": [
        "input_data = np.random.randn(1000, 100)  # 1000개의 데이터\n",
        "node_num = 100  # 각 은닉층의 노드(뉴런) 수\n",
        "hidden_layer_size = 10  # 은닉층이 5개\n",
        "activations = {}  # 이곳에 활성화 결과를 저장\n",
        "\n",
        "x = input_data\n",
        "\n",
        "for i in range(hidden_layer_size):\n",
        "    if i != 0:\n",
        "        x = activations[i-1]\n",
        "\n",
        "    w = weight_init('he')\n",
        "    a = np.dot(x, w)\n",
        "\n",
        "    # z = sigmoid(a)\n",
        "    z = ReLU(a)\n",
        "    # z = tanh(a)\n",
        "\n",
        "    activations[i] = z\n",
        "\n",
        "# 히스토그램 그리기\n",
        "plt.figure(figsize=(15,5))\n",
        "for i, a in activations.items():\n",
        "    plt.subplot(1, len(activations), i+1)\n",
        "    plt.title(str(i+1) + \"-layer\")\n",
        "    if i != 0: plt.yticks([], [])\n",
        "#     plt.xlim(0.1, 1)\n",
        "    plt.ylim(0, 7000)\n",
        "    plt.hist(a.flatten(), 30, range=(0,1))\n",
        "plt.show()"
      ],
      "metadata": {
        "colab": {
          "base_uri": "https://localhost:8080/",
          "height": 336
        },
        "id": "MxcayeN_WZAf",
        "outputId": "ccea603a-4aea-4d4e-87d0-80b36f0d73b3"
      },
      "execution_count": 8,
      "outputs": [
        {
          "output_type": "display_data",
          "data": {
            "text/plain": [
              "<Figure size 1080x360 with 10 Axes>"
            ],
            "image/png": "[encoded data removed]"
          },
          "metadata": {
            "needs_background": "light"
          }
        }
      ]
    }
  ]
}